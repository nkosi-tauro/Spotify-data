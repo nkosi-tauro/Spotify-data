{
 "cells": [
  {
   "cell_type": "markdown",
   "metadata": {},
   "source": [
    "# Spotify Data Project\n",
    "\n",
    "The goal of this project is to transform my Spotify data into a series of visual graphics that can tell me about my listening habits, including who I listen to, when, and how often."
   ]
  },
  {
   "cell_type": "code",
   "execution_count": 4,
   "metadata": {},
   "outputs": [],
   "source": [
    "# Import libraries\n",
    "\n",
    "import pandas as pd\n",
    "import numpy as np\n",
    "import matplotlib.pyplot as plt\n",
    "import seaborn as sns; sns.set()\n",
    "\n",
    "import json\n",
    "from pprint import pprint\n",
    "import chart_studio\n",
    "import plotly\n",
    "chart_studio.tools.set_credentials_file(username=\"bart23\", api_key=\"NlBGNl61meV8DnlKCCGq\")\n",
    "import chart_studio.plotly as py\n",
    "import plotly.graph_objs as go\n",
    "\n",
    "pd.set_option('display.max_rows', 500)"
   ]
  },
  {
   "cell_type": "code",
   "execution_count": 5,
   "metadata": {},
   "outputs": [
    {
     "name": "stdout",
     "output_type": "stream",
     "text": [
      "[{'artistName': 'Freddie Dredd',\n",
      "  'endTime': '2019-11-17 19:05',\n",
      "  'msPlayed': 0,\n",
      "  'trackName': 'Oh Darling'},\n",
      " {'artistName': '$uicideBoy$',\n",
      "  'endTime': '2019-11-17 19:05',\n",
      "  'msPlayed': 3170,\n",
      "  'trackName': 'Back From The Dead'},\n",
      " {'artistName': '$uicideBoy$',\n",
      "  'endTime': '2019-11-17 19:05',\n",
      "  'msPlayed': 622,\n",
      "  'trackName': 'Back From The Dead'},\n",
      " {'artistName': 'Chetta',\n",
      "  'endTime': '2019-11-17 19:05',\n",
      "  'msPlayed': 41140,\n",
      "  'trackName': 'Jazzland'},\n",
      " {'artistName': '$uicideBoy$',\n",
      "  'endTime': '2019-11-17 19:05',\n",
      "  'msPlayed': 568,\n",
      "  'trackName': 'Tony Hawk Pro Skater 4'}]\n"
     ]
    }
   ],
   "source": [
    "# Read in the data from a Json format and look at the results\n",
    "\n",
    "with open('data/StreamingHistory5.json', encoding='utf8') as f:\n",
    "    data = json.load(f)\n",
    "\n",
    "pprint(data[:5])"
   ]
  },
  {
   "cell_type": "code",
   "execution_count": 6,
   "metadata": {},
   "outputs": [],
   "source": [
    "# Convert from JSON to a data frame\n",
    "\n",
    "spotify_data = pd.DataFrame()\n",
    "\n",
    "def extract_json_value(column_name):\n",
    "    \n",
    "    return [i[column_name] for i in data]\n",
    "\n",
    "spotify_data['artist_name'] = extract_json_value('artistName')\n",
    "spotify_data['end_time'] = extract_json_value('endTime')\n",
    "spotify_data['ms_played'] = extract_json_value('msPlayed')\n",
    "spotify_data['track_name'] = extract_json_value('trackName')"
   ]
  },
  {
   "cell_type": "code",
   "execution_count": 7,
   "metadata": {},
   "outputs": [
    {
     "data": {
      "text/html": [
       "<div>\n",
       "<style scoped>\n",
       "    .dataframe tbody tr th:only-of-type {\n",
       "        vertical-align: middle;\n",
       "    }\n",
       "\n",
       "    .dataframe tbody tr th {\n",
       "        vertical-align: top;\n",
       "    }\n",
       "\n",
       "    .dataframe thead th {\n",
       "        text-align: right;\n",
       "    }\n",
       "</style>\n",
       "<table border=\"1\" class=\"dataframe\">\n",
       "  <thead>\n",
       "    <tr style=\"text-align: right;\">\n",
       "      <th></th>\n",
       "      <th>artist_name</th>\n",
       "      <th>end_time</th>\n",
       "      <th>ms_played</th>\n",
       "      <th>track_name</th>\n",
       "    </tr>\n",
       "  </thead>\n",
       "  <tbody>\n",
       "    <tr>\n",
       "      <td>294</td>\n",
       "      <td>GRXGVR</td>\n",
       "      <td>2019-11-19 07:30</td>\n",
       "      <td>187791</td>\n",
       "      <td>Scholar</td>\n",
       "    </tr>\n",
       "    <tr>\n",
       "      <td>549</td>\n",
       "      <td>Ramirez</td>\n",
       "      <td>2019-11-21 07:26</td>\n",
       "      <td>124500</td>\n",
       "      <td>Life</td>\n",
       "    </tr>\n",
       "    <tr>\n",
       "      <td>82</td>\n",
       "      <td>Miss K8</td>\n",
       "      <td>2019-11-17 19:29</td>\n",
       "      <td>722</td>\n",
       "      <td>Liquid8 - Ophidian Remix Radio Edit</td>\n",
       "    </tr>\n",
       "    <tr>\n",
       "      <td>282</td>\n",
       "      <td>Ramirez</td>\n",
       "      <td>2019-11-19 06:06</td>\n",
       "      <td>36042</td>\n",
       "      <td>Articuno Wrist</td>\n",
       "    </tr>\n",
       "    <tr>\n",
       "      <td>845</td>\n",
       "      <td>Iceberg Black</td>\n",
       "      <td>2019-11-24 20:16</td>\n",
       "      <td>640</td>\n",
       "      <td>TWISTED</td>\n",
       "    </tr>\n",
       "    <tr>\n",
       "      <td>395</td>\n",
       "      <td>NERVO</td>\n",
       "      <td>2019-11-20 05:14</td>\n",
       "      <td>370702</td>\n",
       "      <td>Worlds Collide - Matt Fax Remix</td>\n",
       "    </tr>\n",
       "    <tr>\n",
       "      <td>154</td>\n",
       "      <td>Scarlxrd</td>\n",
       "      <td>2019-11-18 05:40</td>\n",
       "      <td>64890</td>\n",
       "      <td>Face</td>\n",
       "    </tr>\n",
       "    <tr>\n",
       "      <td>552</td>\n",
       "      <td>Iceberg Black</td>\n",
       "      <td>2019-11-21 07:31</td>\n",
       "      <td>1839</td>\n",
       "      <td>Somethin' Wicked</td>\n",
       "    </tr>\n",
       "    <tr>\n",
       "      <td>92</td>\n",
       "      <td>Knife Party</td>\n",
       "      <td>2019-11-17 19:31</td>\n",
       "      <td>390</td>\n",
       "      <td>Superstar</td>\n",
       "    </tr>\n",
       "    <tr>\n",
       "      <td>87</td>\n",
       "      <td>Knife Party</td>\n",
       "      <td>2019-11-17 19:31</td>\n",
       "      <td>0</td>\n",
       "      <td>Resistance</td>\n",
       "    </tr>\n",
       "  </tbody>\n",
       "</table>\n",
       "</div>"
      ],
      "text/plain": [
       "       artist_name          end_time  ms_played  \\\n",
       "294         GRXGVR  2019-11-19 07:30     187791   \n",
       "549        Ramirez  2019-11-21 07:26     124500   \n",
       "82         Miss K8  2019-11-17 19:29        722   \n",
       "282        Ramirez  2019-11-19 06:06      36042   \n",
       "845  Iceberg Black  2019-11-24 20:16        640   \n",
       "395          NERVO  2019-11-20 05:14     370702   \n",
       "154       Scarlxrd  2019-11-18 05:40      64890   \n",
       "552  Iceberg Black  2019-11-21 07:31       1839   \n",
       "92     Knife Party  2019-11-17 19:31        390   \n",
       "87     Knife Party  2019-11-17 19:31          0   \n",
       "\n",
       "                              track_name  \n",
       "294                              Scholar  \n",
       "549                                 Life  \n",
       "82   Liquid8 - Ophidian Remix Radio Edit  \n",
       "282                       Articuno Wrist  \n",
       "845                              TWISTED  \n",
       "395      Worlds Collide - Matt Fax Remix  \n",
       "154                                 Face  \n",
       "552                     Somethin' Wicked  \n",
       "92                             Superstar  \n",
       "87                            Resistance  "
      ]
     },
     "execution_count": 7,
     "metadata": {},
     "output_type": "execute_result"
    }
   ],
   "source": [
    "spotify_data.sample(10)"
   ]
  },
  {
   "cell_type": "code",
   "execution_count": 8,
   "metadata": {},
   "outputs": [
    {
     "name": "stdout",
     "output_type": "stream",
     "text": [
      "<class 'pandas.core.frame.DataFrame'>\n",
      "RangeIndex: 869 entries, 0 to 868\n",
      "Data columns (total 4 columns):\n",
      "artist_name    869 non-null object\n",
      "end_time       869 non-null object\n",
      "ms_played      869 non-null int64\n",
      "track_name     869 non-null object\n",
      "dtypes: int64(1), object(3)\n",
      "memory usage: 27.3+ KB\n"
     ]
    }
   ],
   "source": [
    "spotify_data.info()"
   ]
  },
  {
   "cell_type": "markdown",
   "metadata": {},
   "source": [
    "# Format columns and add variables"
   ]
  },
  {
   "cell_type": "code",
   "execution_count": 9,
   "metadata": {},
   "outputs": [],
   "source": [
    "# Convert the timestamp column to datetime\n",
    "\n",
    "spotify_data['end_time'] = pd.to_datetime(spotify_data['end_time'])"
   ]
  },
  {
   "cell_type": "code",
   "execution_count": 10,
   "metadata": {},
   "outputs": [],
   "source": [
    "# Add additional time columns for more interpretable times; drop the MS column\n",
    "\n",
    "spotify_data['seconds_played'] = spotify_data.ms_played.divide(1000)\n",
    "spotify_data['minutes_played'] = spotify_data.seconds_played.divide(60)\n",
    "\n",
    "spotify_data.drop('ms_played', axis=1, inplace=True)"
   ]
  },
  {
   "cell_type": "code",
   "execution_count": 11,
   "metadata": {},
   "outputs": [
    {
     "data": {
      "text/html": [
       "<div>\n",
       "<style scoped>\n",
       "    .dataframe tbody tr th:only-of-type {\n",
       "        vertical-align: middle;\n",
       "    }\n",
       "\n",
       "    .dataframe tbody tr th {\n",
       "        vertical-align: top;\n",
       "    }\n",
       "\n",
       "    .dataframe thead th {\n",
       "        text-align: right;\n",
       "    }\n",
       "</style>\n",
       "<table border=\"1\" class=\"dataframe\">\n",
       "  <thead>\n",
       "    <tr style=\"text-align: right;\">\n",
       "      <th></th>\n",
       "      <th>artist_name</th>\n",
       "      <th>end_time</th>\n",
       "      <th>track_name</th>\n",
       "      <th>seconds_played</th>\n",
       "      <th>minutes_played</th>\n",
       "    </tr>\n",
       "  </thead>\n",
       "  <tbody>\n",
       "    <tr>\n",
       "      <td>515</td>\n",
       "      <td>Pouya</td>\n",
       "      <td>2019-11-20 13:48:00</td>\n",
       "      <td>FIVE FIVE</td>\n",
       "      <td>1.002</td>\n",
       "      <td>0.016700</td>\n",
       "    </tr>\n",
       "    <tr>\n",
       "      <td>103</td>\n",
       "      <td>Miss K8</td>\n",
       "      <td>2019-11-17 19:31:00</td>\n",
       "      <td>Battlefield - Radio Edit</td>\n",
       "      <td>0.777</td>\n",
       "      <td>0.012950</td>\n",
       "    </tr>\n",
       "    <tr>\n",
       "      <td>643</td>\n",
       "      <td>Miss K8</td>\n",
       "      <td>2019-11-22 05:16:00</td>\n",
       "      <td>Elevate</td>\n",
       "      <td>66.305</td>\n",
       "      <td>1.105083</td>\n",
       "    </tr>\n",
       "    <tr>\n",
       "      <td>590</td>\n",
       "      <td>Iceberg Black</td>\n",
       "      <td>2019-11-21 11:18:00</td>\n",
       "      <td>Phoenix</td>\n",
       "      <td>376.450</td>\n",
       "      <td>6.274167</td>\n",
       "    </tr>\n",
       "    <tr>\n",
       "      <td>593</td>\n",
       "      <td>Night Lovell</td>\n",
       "      <td>2019-11-21 11:20:00</td>\n",
       "      <td>JOAN OF ARC</td>\n",
       "      <td>4.051</td>\n",
       "      <td>0.067517</td>\n",
       "    </tr>\n",
       "    <tr>\n",
       "      <td>142</td>\n",
       "      <td>Solstice</td>\n",
       "      <td>2019-11-18 05:29:00</td>\n",
       "      <td>Lights - Radio Edit</td>\n",
       "      <td>29.873</td>\n",
       "      <td>0.497883</td>\n",
       "    </tr>\n",
       "    <tr>\n",
       "      <td>694</td>\n",
       "      <td>Ramirez</td>\n",
       "      <td>2019-11-22 07:54:00</td>\n",
       "      <td>Fbgm</td>\n",
       "      <td>129.570</td>\n",
       "      <td>2.159500</td>\n",
       "    </tr>\n",
       "    <tr>\n",
       "      <td>826</td>\n",
       "      <td>Unaverage Gang</td>\n",
       "      <td>2019-11-24 08:47:00</td>\n",
       "      <td>Silly Boys</td>\n",
       "      <td>10.768</td>\n",
       "      <td>0.179467</td>\n",
       "    </tr>\n",
       "    <tr>\n",
       "      <td>557</td>\n",
       "      <td>Devilish Trio</td>\n",
       "      <td>2019-11-21 07:44:00</td>\n",
       "      <td>Time Will Tell</td>\n",
       "      <td>214.259</td>\n",
       "      <td>3.570983</td>\n",
       "    </tr>\n",
       "    <tr>\n",
       "      <td>391</td>\n",
       "      <td>Martin Garrix</td>\n",
       "      <td>2019-11-20 05:08:00</td>\n",
       "      <td>Used To Love (with Dean Lewis)</td>\n",
       "      <td>2.848</td>\n",
       "      <td>0.047467</td>\n",
       "    </tr>\n",
       "  </tbody>\n",
       "</table>\n",
       "</div>"
      ],
      "text/plain": [
       "        artist_name            end_time                      track_name  \\\n",
       "515           Pouya 2019-11-20 13:48:00                       FIVE FIVE   \n",
       "103         Miss K8 2019-11-17 19:31:00        Battlefield - Radio Edit   \n",
       "643         Miss K8 2019-11-22 05:16:00                         Elevate   \n",
       "590   Iceberg Black 2019-11-21 11:18:00                         Phoenix   \n",
       "593    Night Lovell 2019-11-21 11:20:00                     JOAN OF ARC   \n",
       "142        Solstice 2019-11-18 05:29:00             Lights - Radio Edit   \n",
       "694         Ramirez 2019-11-22 07:54:00                            Fbgm   \n",
       "826  Unaverage Gang 2019-11-24 08:47:00                      Silly Boys   \n",
       "557   Devilish Trio 2019-11-21 07:44:00                  Time Will Tell   \n",
       "391   Martin Garrix 2019-11-20 05:08:00  Used To Love (with Dean Lewis)   \n",
       "\n",
       "     seconds_played  minutes_played  \n",
       "515           1.002        0.016700  \n",
       "103           0.777        0.012950  \n",
       "643          66.305        1.105083  \n",
       "590         376.450        6.274167  \n",
       "593           4.051        0.067517  \n",
       "142          29.873        0.497883  \n",
       "694         129.570        2.159500  \n",
       "826          10.768        0.179467  \n",
       "557         214.259        3.570983  \n",
       "391           2.848        0.047467  "
      ]
     },
     "execution_count": 11,
     "metadata": {},
     "output_type": "execute_result"
    }
   ],
   "source": [
    "spotify_data.sample(10)"
   ]
  },
  {
   "cell_type": "markdown",
   "metadata": {},
   "source": [
    "# Most populat artists and songs"
   ]
  },
  {
   "cell_type": "code",
   "execution_count": 12,
   "metadata": {},
   "outputs": [
    {
     "name": "stdout",
     "output_type": "stream",
     "text": [
      "The most played artists by count were: \n",
      "\n",
      "artist_name\n",
      "Scarlxrd            86\n",
      "Ramirez             82\n",
      "Iceberg Black       82\n",
      "Sybyr               62\n",
      "$uicideBoy$         38\n",
      "Solstice            27\n",
      "BONES               24\n",
      "Devilish Trio       22\n",
      "Pouya               21\n",
      "drip-133            18\n",
      "Miss K8             16\n",
      "Futuristic          15\n",
      "Night Lovell        15\n",
      "Ghostemane          14\n",
      "Oliver Francis      13\n",
      "Triple One          13\n",
      "Burnout MacGyver    11\n",
      "Aero Chord          11\n",
      "Denzel Curry        10\n",
      "Suicideyear         10\n",
      "Knife Party          9\n",
      "City Morgue          8\n",
      "Germ                 8\n",
      "Shakewell            8\n",
      "Chetta               8\n",
      "Name: track_name, dtype: int64\n"
     ]
    }
   ],
   "source": [
    "# Find the most popular artists by number of times played\n",
    "\n",
    "most_popular_artists_by_count = spotify_data.groupby(by='artist_name')['track_name'].count().sort_values(ascending=False)[:25]\n",
    "\n",
    "print('The most played artists by count were: \\n\\n{}'.format(most_popular_artists_by_count))"
   ]
  },
  {
   "cell_type": "code",
   "execution_count": 13,
   "metadata": {},
   "outputs": [
    {
     "data": {
      "text/plain": [
       "artist_name\n",
       "Iceberg Black       121.940850\n",
       "Ramirez             120.390867\n",
       "Scarlxrd            113.877550\n",
       "Solstice             61.338233\n",
       "Sybyr                59.501667\n",
       "Devilish Trio        50.896683\n",
       "$uicideBoy$          44.088967\n",
       "Pouya                36.795983\n",
       "BONES                36.168300\n",
       "Suicideyear          34.712917\n",
       "Night Lovell         33.012983\n",
       "NERVO                21.112383\n",
       "Burnout MacGyver     20.219833\n",
       "Ghostemane           15.508933\n",
       "Chetta               14.957167\n",
       "Bill $Aber           13.966233\n",
       "Germ                 13.924750\n",
       "drip-133             12.943033\n",
       "Shakewell            12.938700\n",
       "John Dahlbäck        11.872483\n",
       "Name: minutes_played, dtype: float64"
      ]
     },
     "execution_count": 13,
     "metadata": {},
     "output_type": "execute_result"
    }
   ],
   "source": [
    "# Look at most popular artists by amount of time played\n",
    "\n",
    "most_popular_artists_by_time = spotify_data.groupby(by='artist_name')['minutes_played'].sum().sort_values(ascending=False)[:20]\n",
    "\n",
    "most_popular_artists_by_time"
   ]
  },
  {
   "cell_type": "code",
   "execution_count": 14,
   "metadata": {},
   "outputs": [
    {
     "data": {
      "text/plain": [
       "Take My Hand                                           12\n",
       "Wherever You Are                                       10\n",
       "Demons Taking Over Me                                   9\n",
       "Way Out of the City                                     6\n",
       "U Naut Like Me                                          6\n",
       "Piss on the Kitchen Floor                               5\n",
       "Worlds Collide - Matt Fax Remix                         5\n",
       "All I Want                                              5\n",
       "RIPPINOUTYASPINE                                        5\n",
       "Time Will Tell                                          5\n",
       "HELL IS XN EARTH                                        5\n",
       "The Sevenfold Minister                                  5\n",
       "a BRAINDEAD civilisatixn                                5\n",
       "Where Roads End                                         4\n",
       "Japan                                                   4\n",
       "ShrimpPizza                                             4\n",
       "It's Early. My Head Is Throbbing                        4\n",
       "HER BIO SAID DON'T DM, BUT I DID ANYWAY                 4\n",
       "Blink 182                                               4\n",
       "i like clothes i cant afford & girls i'll never get     4\n",
       "Name: track_name, dtype: int64"
      ]
     },
     "execution_count": 14,
     "metadata": {},
     "output_type": "execute_result"
    }
   ],
   "source": [
    "# Look at the most popular songs played\n",
    "\n",
    "most_popular_songs = spotify_data.track_name.value_counts().sort_values(ascending=False)[:20]\n",
    "\n",
    "most_popular_songs"
   ]
  },
  {
   "cell_type": "markdown",
   "metadata": {},
   "source": [
    "# Time of day to listen"
   ]
  },
  {
   "cell_type": "code",
   "execution_count": 15,
   "metadata": {},
   "outputs": [],
   "source": [
    "# Create time of day variable\n",
    "\n",
    "def time_of_day(datetime_column, df=spotify_data):\n",
    "    \n",
    "    \"\"\"\n",
    "    Takes in a datetime column and returns the time of day that the datetime occurs.\n",
    "    \n",
    "    Before 12 PM is considered morning, between 12 PM and 5 PM afternoon, and after 5 PM evening.\n",
    "    \"\"\"\n",
    "    \n",
    "    time_of_day = []\n",
    "    \n",
    "    for i in df[datetime_column]:\n",
    "        \n",
    "        i = i.hour\n",
    "        \n",
    "        if i <= 12:\n",
    "            \n",
    "            time_of_day.append('morning')\n",
    "            \n",
    "        elif i < 17:\n",
    "            \n",
    "            time_of_day.append('afternoon')\n",
    "            \n",
    "        else:\n",
    "            \n",
    "            time_of_day.append('night')\n",
    "    \n",
    "    time_of_day = pd.Categorical(time_of_day, categories=['morning','afternoon','night'], ordered=True)\n",
    "            \n",
    "    return time_of_day"
   ]
  },
  {
   "cell_type": "code",
   "execution_count": 16,
   "metadata": {},
   "outputs": [],
   "source": [
    "from datetime import datetime\n",
    "import time\n",
    "\n",
    "def datetime_from_utc_to_local(utc_datetime):\n",
    "    \n",
    "    \"\"\"\n",
    "    Converts a column from a UTC timestamp to local time, then returns the local time.\n",
    "    \"\"\"\n",
    "    now_timestamp = time.time()\n",
    "    offset = datetime.fromtimestamp(now_timestamp) - datetime.utcfromtimestamp(now_timestamp)\n",
    "    return utc_datetime + offset"
   ]
  },
  {
   "cell_type": "code",
   "execution_count": 17,
   "metadata": {},
   "outputs": [],
   "source": [
    "## Convert from UTC time to eastern time\n",
    "\n",
    "spotify_data['local_time'] = datetime_from_utc_to_local(spotify_data.end_time)\n",
    "spotify_data['local_time_of_day'] = time_of_day('local_time')"
   ]
  },
  {
   "cell_type": "code",
   "execution_count": 18,
   "metadata": {},
   "outputs": [],
   "source": [
    "# Add day of week and organize days as categories\n",
    "\n",
    "spotify_data['local_day_of_week'] = spotify_data['local_time'].dt.day_name()\n",
    "\n",
    "spotify_data['local_day_of_week'] = pd.Categorical(spotify_data['local_day_of_week'], \n",
    "                                   categories=['Monday','Tuesday','Wednesday','Thursday','Friday','Saturday', 'Sunday'], \n",
    "                                   ordered=True)"
   ]
  },
  {
   "cell_type": "code",
   "execution_count": 19,
   "metadata": {},
   "outputs": [],
   "source": [
    "## Create a pivot table by time of day and day of week\n",
    "\n",
    "time_of_day_local_pivot = spotify_data.pivot_table(columns='local_time_of_day', index='local_day_of_week', \n",
    "                                             values='minutes_played', aggfunc=np.sum)\n",
    "\n",
    "start_date = spotify_data.local_time.min()\n",
    "end_date = spotify_data.local_time.max()\n",
    "\n",
    "difference_in_weeks = (end_date - start_date).days / (7)\n",
    "time_of_day_utc_pivot = time_of_day_local_pivot.divide(difference_in_weeks)"
   ]
  },
  {
   "cell_type": "code",
   "execution_count": 20,
   "metadata": {},
   "outputs": [
    {
     "data": {
      "text/html": [
       "\n",
       "        <iframe\n",
       "            width=\"100%\"\n",
       "            height=\"525px\"\n",
       "            src=\"https://plot.ly/~bart23/2.embed\"\n",
       "            frameborder=\"0\"\n",
       "            allowfullscreen\n",
       "        ></iframe>\n",
       "        "
      ],
      "text/plain": [
       "<IPython.lib.display.IFrame at 0x7f0d221cdc90>"
      ]
     },
     "execution_count": 20,
     "metadata": {},
     "output_type": "execute_result"
    }
   ],
   "source": [
    "trace = go.Heatmap(z=time_of_day_utc_pivot.values,\n",
    "                  x=time_of_day_utc_pivot.columns,\n",
    "                  y=time_of_day_utc_pivot.index,\n",
    "                  colorscale='Greens',\n",
    "                  reversescale=True)\n",
    "data=[trace]\n",
    "py.iplot(data, filename='spotify_heatmap')"
   ]
  },
  {
   "cell_type": "markdown",
   "metadata": {},
   "source": [
    "# Higher likelihood to play a song"
   ]
  },
  {
   "cell_type": "code",
   "execution_count": 21,
   "metadata": {},
   "outputs": [],
   "source": [
    "## Read in playlsit data\n",
    "\n",
    "with open('data/Playlist1.json', encoding='utf8') as f:\n",
    "    playlist_data = json.load(f)"
   ]
  },
  {
   "cell_type": "code",
   "execution_count": 22,
   "metadata": {},
   "outputs": [],
   "source": [
    "my_playlist = pd.DataFrame()\n",
    "\n",
    "def extract_json_value_playlist(column_name, data_source = playlist_data):\n",
    "    \n",
    "    \"\"\"\n",
    "    Takes in a column from a JSON format, extracts the values, and returns a column that can be used\n",
    "    in a data frame\n",
    "    \"\"\"\n",
    "    \n",
    "    column_values = []\n",
    "    \n",
    "    for i in range([len(i) for i in data_source['playlists']][0]):\n",
    "        try:\n",
    "            \n",
    "            for k in range(len(data_source['playlists'][i]['tracks'])):\n",
    "\n",
    "                column_values.append(data_source['playlists'][i]['tracks'][k][column_name])\n",
    "                \n",
    "        except:\n",
    "            continue\n",
    "\n",
    "    return column_values\n",
    "\n",
    "my_playlist['artist_name'] = extract_json_value_playlist('artistName')\n",
    "my_playlist['track_name'] = extract_json_value_playlist('trackName')"
   ]
  },
  {
   "cell_type": "code",
   "execution_count": 23,
   "metadata": {},
   "outputs": [
    {
     "data": {
      "text/html": [
       "<div>\n",
       "<style scoped>\n",
       "    .dataframe tbody tr th:only-of-type {\n",
       "        vertical-align: middle;\n",
       "    }\n",
       "\n",
       "    .dataframe tbody tr th {\n",
       "        vertical-align: top;\n",
       "    }\n",
       "\n",
       "    .dataframe thead th {\n",
       "        text-align: right;\n",
       "    }\n",
       "</style>\n",
       "<table border=\"1\" class=\"dataframe\">\n",
       "  <thead>\n",
       "    <tr style=\"text-align: right;\">\n",
       "      <th></th>\n",
       "      <th>artist_name</th>\n",
       "      <th>track_name</th>\n",
       "    </tr>\n",
       "  </thead>\n",
       "  <tbody>\n",
       "  </tbody>\n",
       "</table>\n",
       "</div>"
      ],
      "text/plain": [
       "Empty DataFrame\n",
       "Columns: [artist_name, track_name]\n",
       "Index: []"
      ]
     },
     "execution_count": 23,
     "metadata": {},
     "output_type": "execute_result"
    }
   ],
   "source": [
    "my_playlist.sample(frac=0.1, replace=True)"
   ]
  },
  {
   "cell_type": "code",
   "execution_count": 24,
   "metadata": {},
   "outputs": [],
   "source": [
    "# Read in the library information\n",
    "\n",
    "with open('data/YourLibrary.json', encoding='utf8') as f:\n",
    "    library_data = json.load(f)"
   ]
  },
  {
   "cell_type": "code",
   "execution_count": 25,
   "metadata": {},
   "outputs": [],
   "source": [
    "library_df = pd.DataFrame()\n",
    "\n",
    "def extract_json_value_library(column_name, data_source=library_data):\n",
    "    \n",
    "    \"\"\"\n",
    "    Takes in a JSON series of values and converts them to a list\n",
    "    \"\"\"\n",
    "    \n",
    "    return [i[column_name] for i in data_source['tracks']]\n",
    "\n",
    "library_df['artist_name'] = extract_json_value_library('artist')\n",
    "library_df['album'] = extract_json_value_library('album')\n",
    "library_df['track_name'] = extract_json_value_library('track')"
   ]
  },
  {
   "cell_type": "code",
   "execution_count": 26,
   "metadata": {},
   "outputs": [
    {
     "data": {
      "text/html": [
       "<div>\n",
       "<style scoped>\n",
       "    .dataframe tbody tr th:only-of-type {\n",
       "        vertical-align: middle;\n",
       "    }\n",
       "\n",
       "    .dataframe tbody tr th {\n",
       "        vertical-align: top;\n",
       "    }\n",
       "\n",
       "    .dataframe thead th {\n",
       "        text-align: right;\n",
       "    }\n",
       "</style>\n",
       "<table border=\"1\" class=\"dataframe\">\n",
       "  <thead>\n",
       "    <tr style=\"text-align: right;\">\n",
       "      <th></th>\n",
       "      <th>artist_name</th>\n",
       "      <th>album</th>\n",
       "      <th>track_name</th>\n",
       "    </tr>\n",
       "  </thead>\n",
       "  <tbody>\n",
       "    <tr>\n",
       "      <td>1824</td>\n",
       "      <td>ILLENIUM</td>\n",
       "      <td>Awake</td>\n",
       "      <td>Beautiful Creatures (feat. MAX)</td>\n",
       "    </tr>\n",
       "    <tr>\n",
       "      <td>2192</td>\n",
       "      <td>Denzel Curry</td>\n",
       "      <td>RICKY</td>\n",
       "      <td>RICKY</td>\n",
       "    </tr>\n",
       "    <tr>\n",
       "      <td>1904</td>\n",
       "      <td>Syringe</td>\n",
       "      <td>Deathhead</td>\n",
       "      <td>Ugh</td>\n",
       "    </tr>\n",
       "    <tr>\n",
       "      <td>1154</td>\n",
       "      <td>Lost Tribe</td>\n",
       "      <td>Live at Ultra Music Festival Miami 2018 (Highl...</td>\n",
       "      <td>Gamemaster (Mix Cut) - Lightform Reborn Mix</td>\n",
       "    </tr>\n",
       "    <tr>\n",
       "      <td>1942</td>\n",
       "      <td>Virtual Riot</td>\n",
       "      <td>Disciple Alliance Vol. 4</td>\n",
       "      <td>Dog Fight</td>\n",
       "    </tr>\n",
       "    <tr>\n",
       "      <td>1625</td>\n",
       "      <td>Devilish Trio</td>\n",
       "      <td>The Collection</td>\n",
       "      <td>The Collection</td>\n",
       "    </tr>\n",
       "    <tr>\n",
       "      <td>204</td>\n",
       "      <td>Swedish House Mafia</td>\n",
       "      <td>One (Your Name)</td>\n",
       "      <td>One (Your Name) - Radio Edit</td>\n",
       "    </tr>\n",
       "    <tr>\n",
       "      <td>801</td>\n",
       "      <td>$uicideBoy$</td>\n",
       "      <td>LIVE FAST DIE WHENEVER</td>\n",
       "      <td>Killing 2 Birds With 22 Stones ($UICIDEBOY$ X ...</td>\n",
       "    </tr>\n",
       "    <tr>\n",
       "      <td>45</td>\n",
       "      <td>Wavy Jone$</td>\n",
       "      <td>Death Note (feat. Bones)</td>\n",
       "      <td>Death Note (feat. Bones)</td>\n",
       "    </tr>\n",
       "    <tr>\n",
       "      <td>415</td>\n",
       "      <td>Knife Party</td>\n",
       "      <td>Abandon Ship</td>\n",
       "      <td>Resistance</td>\n",
       "    </tr>\n",
       "  </tbody>\n",
       "</table>\n",
       "</div>"
      ],
      "text/plain": [
       "              artist_name                                              album  \\\n",
       "1824             ILLENIUM                                              Awake   \n",
       "2192         Denzel Curry                                              RICKY   \n",
       "1904              Syringe                                          Deathhead   \n",
       "1154           Lost Tribe  Live at Ultra Music Festival Miami 2018 (Highl...   \n",
       "1942         Virtual Riot                           Disciple Alliance Vol. 4   \n",
       "1625        Devilish Trio                                     The Collection   \n",
       "204   Swedish House Mafia                                    One (Your Name)   \n",
       "801           $uicideBoy$                             LIVE FAST DIE WHENEVER   \n",
       "45             Wavy Jone$                           Death Note (feat. Bones)   \n",
       "415           Knife Party                                       Abandon Ship   \n",
       "\n",
       "                                             track_name  \n",
       "1824                    Beautiful Creatures (feat. MAX)  \n",
       "2192                                              RICKY  \n",
       "1904                                                Ugh  \n",
       "1154        Gamemaster (Mix Cut) - Lightform Reborn Mix  \n",
       "1942                                          Dog Fight  \n",
       "1625                                     The Collection  \n",
       "204                        One (Your Name) - Radio Edit  \n",
       "801   Killing 2 Birds With 22 Stones ($UICIDEBOY$ X ...  \n",
       "45                             Death Note (feat. Bones)  \n",
       "415                                          Resistance  "
      ]
     },
     "execution_count": 26,
     "metadata": {},
     "output_type": "execute_result"
    }
   ],
   "source": [
    "library_df.sample(10)"
   ]
  },
  {
   "cell_type": "code",
   "execution_count": 27,
   "metadata": {},
   "outputs": [],
   "source": [
    "## Create a series of zipped artist and track names to be able to match values and see song overlap\n",
    "\n",
    "artist_name_track_name_all = list(zip(spotify_data.artist_name, spotify_data.track_name))\n",
    "artist_name_track_name_playlist = list(zip(my_playlist.artist_name, my_playlist.track_name))\n",
    "artist_name_track_name_library = list(zip(library_df.artist_name, library_df.track_name))"
   ]
  },
  {
   "cell_type": "code",
   "execution_count": 28,
   "metadata": {},
   "outputs": [],
   "source": [
    "# Determine if a given song/artist combination is in a playlist or library\n",
    "\n",
    "song_in_playlist = [1 if i in artist_name_track_name_playlist else 0 for i in artist_name_track_name_all]\n",
    "song_in_library = [1 if i in artist_name_track_name_library else 0 for i in artist_name_track_name_all]"
   ]
  },
  {
   "cell_type": "code",
   "execution_count": 29,
   "metadata": {},
   "outputs": [],
   "source": [
    "# Add lists created above to the spotify data frame\n",
    "\n",
    "spotify_data['song_in_playlist'] = song_in_playlist\n",
    "spotify_data['song_in_library'] = song_in_library"
   ]
  },
  {
   "cell_type": "code",
   "execution_count": 30,
   "metadata": {},
   "outputs": [
    {
     "name": "stdout",
     "output_type": "stream",
     "text": [
      "0% of the total songs played were also featured in a playlist\n",
      "71% of the total songs played were also featured in my library\n"
     ]
    }
   ],
   "source": [
    "print('{0:.0%} of the total songs played were also featured in a playlist'.format(spotify_data.song_in_playlist.sum()\\\n",
    "                                                                                 / (spotify_data.shape[0])))\n",
    "print('{0:.0%} of the total songs played were also featured in my library'.format(spotify_data.song_in_library.sum()\\\n",
    "                                                                                 / (spotify_data.shape[0])))"
   ]
  },
  {
   "cell_type": "code",
   "execution_count": 31,
   "metadata": {},
   "outputs": [],
   "source": [
    "# Determine the number of times a song was played if it's in a playlist or library compared to not being in one\n",
    "\n",
    "num_times_played_playlist = []\n",
    "num_times_played_nonplaylist = []\n",
    "\n",
    "num_times_played_library = []\n",
    "num_times_played_nonlibrary = []\n",
    "\n",
    "for artist_song in set(artist_name_track_name_all):\n",
    "    \n",
    "    song_df = spotify_data[(spotify_data.artist_name == artist_song[0]) & (spotify_data.track_name == artist_song[1])]\n",
    "        \n",
    "    if (song_df.song_in_playlist.sum() > 0):\n",
    "        \n",
    "        num_times_played_playlist.append(len(song_df))\n",
    "        \n",
    "    else:\n",
    "        \n",
    "        num_times_played_nonplaylist.append(len(song_df))\n",
    "        \n",
    "    if (song_df.song_in_library.sum() > 0):\n",
    "        \n",
    "        num_times_played_library.append(len(song_df))\n",
    "        \n",
    "    else:\n",
    "        \n",
    "        num_times_played_nonlibrary.append(len(song_df))"
   ]
  },
  {
   "cell_type": "code",
   "execution_count": 32,
   "metadata": {},
   "outputs": [
    {
     "data": {
      "text/html": [
       "\n",
       "        <iframe\n",
       "            width=\"100%\"\n",
       "            height=\"525px\"\n",
       "            src=\"https://plot.ly/~bart23/58.embed\"\n",
       "            frameborder=\"0\"\n",
       "            allowfullscreen\n",
       "        ></iframe>\n",
       "        "
      ],
      "text/plain": [
       "<IPython.lib.display.IFrame at 0x7f0d2198cf10>"
      ]
     },
     "execution_count": 32,
     "metadata": {},
     "output_type": "execute_result"
    }
   ],
   "source": [
    "x_data = ['Non Library', 'Library', 'Non Playlist', 'Playlist']\n",
    "\n",
    "y_data = [num_times_played_nonlibrary, num_times_played_library, num_times_played_nonplaylist, num_times_played_playlist]\n",
    "\n",
    "colors = ['rgba(93, 164, 214, 0.5)', 'rgba(255, 144, 14, 0.5)', 'rgba(44, 160, 101, 0.5)', 'rgba(255, 65, 54, 0.5)', 'rgba(207, 114, 255, 0.5)', 'rgba(127, 96, 0, 0.5)']\n",
    "\n",
    "traces = []\n",
    "\n",
    "for xd, yd, cls in zip(x_data, y_data, colors):\n",
    "        traces.append(go.Box(\n",
    "            y=yd,\n",
    "            name=xd,\n",
    "            boxpoints='all',\n",
    "            jitter=0.5,\n",
    "            whiskerwidth=0.2,\n",
    "            fillcolor=cls,\n",
    "            marker=dict(\n",
    "                size=2,\n",
    "            ),\n",
    "            line=dict(width=1),\n",
    "        ))\n",
    "\n",
    "layout = go.Layout(\n",
    "    title='Frequency of Song Playing by Category',\n",
    "    yaxis=dict(\n",
    "        autorange=True,\n",
    "        showgrid=True,\n",
    "        zeroline=True,\n",
    "        dtick=5,\n",
    "        gridcolor='rgb(255, 255, 255)',\n",
    "        gridwidth=1,\n",
    "        zerolinecolor='rgb(255, 255, 255)',\n",
    "        zerolinewidth=2,\n",
    "        title='Number of Plays'\n",
    "    ),\n",
    "    margin=dict(\n",
    "        l=40,\n",
    "        r=30,\n",
    "        b=80,\n",
    "        t=100,\n",
    "    ),\n",
    "    paper_bgcolor='rgb(243, 243, 243)',\n",
    "    plot_bgcolor='rgb(243, 243, 243)',\n",
    "    showlegend=False\n",
    ")\n",
    "\n",
    "fig = go.Figure(data=traces, layout=layout)\n",
    "py.iplot(fig)"
   ]
  },
  {
   "cell_type": "markdown",
   "metadata": {},
   "source": [
    "# Number of minutes listened per day"
   ]
  },
  {
   "cell_type": "code",
   "execution_count": 33,
   "metadata": {},
   "outputs": [],
   "source": [
    "# Determine the number of minutes per day that I listened to songs\n",
    "\n",
    "number_of_minutes_per_day = spotify_data.set_index('local_time')\n",
    "number_of_minutes_per_day = pd.DataFrame(number_of_minutes_per_day.groupby(\\\n",
    "                            by=number_of_minutes_per_day.index.date)['minutes_played'].sum())"
   ]
  },
  {
   "cell_type": "code",
   "execution_count": 34,
   "metadata": {},
   "outputs": [
    {
     "data": {
      "text/html": [
       "<div>\n",
       "<style scoped>\n",
       "    .dataframe tbody tr th:only-of-type {\n",
       "        vertical-align: middle;\n",
       "    }\n",
       "\n",
       "    .dataframe tbody tr th {\n",
       "        vertical-align: top;\n",
       "    }\n",
       "\n",
       "    .dataframe thead th {\n",
       "        text-align: right;\n",
       "    }\n",
       "</style>\n",
       "<table border=\"1\" class=\"dataframe\">\n",
       "  <thead>\n",
       "    <tr style=\"text-align: right;\">\n",
       "      <th></th>\n",
       "      <th>minutes_played</th>\n",
       "    </tr>\n",
       "  </thead>\n",
       "  <tbody>\n",
       "    <tr>\n",
       "      <td>2019-11-17</td>\n",
       "      <td>30.796683</td>\n",
       "    </tr>\n",
       "    <tr>\n",
       "      <td>2019-11-18</td>\n",
       "      <td>202.467617</td>\n",
       "    </tr>\n",
       "    <tr>\n",
       "      <td>2019-11-19</td>\n",
       "      <td>199.042900</td>\n",
       "    </tr>\n",
       "    <tr>\n",
       "      <td>2019-11-20</td>\n",
       "      <td>166.180683</td>\n",
       "    </tr>\n",
       "    <tr>\n",
       "      <td>2019-11-21</td>\n",
       "      <td>206.037350</td>\n",
       "    </tr>\n",
       "  </tbody>\n",
       "</table>\n",
       "</div>"
      ],
      "text/plain": [
       "            minutes_played\n",
       "2019-11-17       30.796683\n",
       "2019-11-18      202.467617\n",
       "2019-11-19      199.042900\n",
       "2019-11-20      166.180683\n",
       "2019-11-21      206.037350"
      ]
     },
     "execution_count": 34,
     "metadata": {},
     "output_type": "execute_result"
    }
   ],
   "source": [
    "number_of_minutes_per_day.head()"
   ]
  },
  {
   "cell_type": "code",
   "execution_count": 35,
   "metadata": {},
   "outputs": [],
   "source": [
    "from chart_studio.grid_objs import Grid, Column\n",
    "import plotly.figure_factory as ff\n",
    "\n",
    "import time\n",
    "from datetime import datetime"
   ]
  },
  {
   "cell_type": "code",
   "execution_count": 36,
   "metadata": {},
   "outputs": [
    {
     "data": {
      "text/html": [
       "\n",
       "        <iframe\n",
       "            width=\"100%\"\n",
       "            height=\"320px\"\n",
       "            src=\"https://plot.ly/~bart23/6.embed\"\n",
       "            frameborder=\"0\"\n",
       "            allowfullscreen\n",
       "        ></iframe>\n",
       "        "
      ],
      "text/plain": [
       "<IPython.lib.display.IFrame at 0x7f0d2025ee50>"
      ]
     },
     "execution_count": 36,
     "metadata": {},
     "output_type": "execute_result"
    }
   ],
   "source": [
    "# Create a plot.ly-friendly table for minutes per day\n",
    "\n",
    "table = ff.create_table(number_of_minutes_per_day)\n",
    "py.iplot(table, filename='minutes_per_day_spotify')"
   ]
  },
  {
   "cell_type": "code",
   "execution_count": 37,
   "metadata": {},
   "outputs": [
    {
     "data": {
      "text/plain": [
       "'https://plot.ly/~bart23/60/'"
      ]
     },
     "execution_count": 37,
     "metadata": {},
     "output_type": "execute_result"
    }
   ],
   "source": [
    "# Formatting for the plot.ly chart based on code adapted from an example in their gallery\n",
    "\n",
    "minutes_played = list(number_of_minutes_per_day['minutes_played'])\n",
    "\n",
    "my_columns = []\n",
    "\n",
    "for k in range(len(number_of_minutes_per_day.index) - 1):\n",
    "    my_columns.append(Column(number_of_minutes_per_day.index[:k + 1], 'x{}'.format(k + 1)))   \n",
    "    my_columns.append(Column(minutes_played[:k + 1], 'y{}'.format(k + 1)))\n",
    "grid = Grid(my_columns)\n",
    "py.grid_ops.upload(grid, 'minutes_played' + str(time.time()), auto_open=False)"
   ]
  },
  {
   "cell_type": "code",
   "execution_count": 38,
   "metadata": {},
   "outputs": [
    {
     "data": {
      "text/html": [
       "\n",
       "        <iframe\n",
       "            width=\"800px\"\n",
       "            height=\"400px\"\n",
       "            src=\"https://plot.ly/~bart23/61.embed\"\n",
       "            frameborder=\"0\"\n",
       "            allowfullscreen\n",
       "        ></iframe>\n",
       "        "
      ],
      "text/plain": [
       "<IPython.lib.display.IFrame at 0x7f0d1f850550>"
      ]
     },
     "execution_count": 38,
     "metadata": {},
     "output_type": "execute_result"
    }
   ],
   "source": [
    "data=[dict(type='scatter',\n",
    "           xsrc=grid.get_column_reference('x1'),\n",
    "           ysrc= grid.get_column_reference('y1'),\n",
    "           name='Spotify',\n",
    "           mode='lines',\n",
    "           line=dict(color= 'rgb(0, 153, 255)'),\n",
    "           fill='tozeroy',\n",
    "           fillcolor='rgba(153, 204, 255, 0.5)')]\n",
    "\n",
    "axis=dict(ticklen=4,\n",
    "          mirror=True,\n",
    "          zeroline=False,\n",
    "          showline=True,\n",
    "          autorange=False,\n",
    "          showgrid=False)\n",
    "\n",
    "layout = dict(title='Minutes Played per Day Spotify',\n",
    "              font=dict(family='Balto'),\n",
    "              showlegend=False,\n",
    "              autosize=False,\n",
    "              width=800,\n",
    "              height=400,\n",
    "              xaxis=dict(axis, **{'nticks':12, 'tickangle':-45,\n",
    "                                  'range': [min(number_of_minutes_per_day.index),\n",
    "                                            max(number_of_minutes_per_day.index)]}),\n",
    "              yaxis=dict(axis, **{'title': 'Minutes', 'range':[0,max(number_of_minutes_per_day.minutes_played)+5]}),\n",
    "              updatemenus=[dict(type='buttons',\n",
    "                                showactive=False,\n",
    "                                y=1,\n",
    "                                x=1.1,\n",
    "                                xanchor='right',\n",
    "                                yanchor='top',\n",
    "                                pad=dict(t=0, r=10),\n",
    "                                buttons=[dict(label='Play',\n",
    "                                              method='animate',\n",
    "                                              args=[None, dict(frame=dict(duration=50, redraw=False), \n",
    "                                                               transition=dict(duration=0),\n",
    "                                                               fromcurrent=True,\n",
    "                                                               mode='immediate')])])])\n",
    "\n",
    "frames=[{'data':[{'xsrc': grid.get_column_reference('x{}'.format(k + 1)),\n",
    "                  'ysrc': grid.get_column_reference('y{}'.format(k + 1))}],\n",
    "         'traces': [0]\n",
    "        } for k in range(len(number_of_minutes_per_day.index) - 1)]\n",
    "\n",
    "fig=dict(data=data, layout=layout, frames=frames)\n",
    "py.icreate_animations(fig, 'Minutes_Per_Day_Spotify' + str(time.time()))"
   ]
  },
  {
   "cell_type": "markdown",
   "metadata": {},
   "source": [
    "# Listening by Day of Week"
   ]
  },
  {
   "cell_type": "code",
   "execution_count": 39,
   "metadata": {},
   "outputs": [],
   "source": [
    "# Set the index as the column for easier slicing\n",
    "\n",
    "date_index = spotify_data.set_index('local_time')\n",
    "date_index.index = date_index.index.date"
   ]
  },
  {
   "cell_type": "code",
   "execution_count": 40,
   "metadata": {},
   "outputs": [],
   "source": [
    "# Merge the date index with day of week; remove duplicated values\n",
    "\n",
    "merged_minutes_per_day = number_of_minutes_per_day.merge(date_index[['local_day_of_week']], left_index=True, right_index=True,\n",
    "                                                        how='left', validate='1:m')\n",
    "\n",
    "merged_minutes_per_day = merged_minutes_per_day[~merged_minutes_per_day.index.duplicated(keep='first')]"
   ]
  },
  {
   "cell_type": "code",
   "execution_count": 41,
   "metadata": {},
   "outputs": [
    {
     "data": {
      "text/html": [
       "<div>\n",
       "<style scoped>\n",
       "    .dataframe tbody tr th:only-of-type {\n",
       "        vertical-align: middle;\n",
       "    }\n",
       "\n",
       "    .dataframe tbody tr th {\n",
       "        vertical-align: top;\n",
       "    }\n",
       "\n",
       "    .dataframe thead th {\n",
       "        text-align: right;\n",
       "    }\n",
       "</style>\n",
       "<table border=\"1\" class=\"dataframe\">\n",
       "  <thead>\n",
       "    <tr style=\"text-align: right;\">\n",
       "      <th></th>\n",
       "      <th>minutes_played</th>\n",
       "      <th>local_day_of_week</th>\n",
       "    </tr>\n",
       "  </thead>\n",
       "  <tbody>\n",
       "    <tr>\n",
       "      <td>2019-11-17</td>\n",
       "      <td>30.796683</td>\n",
       "      <td>Sunday</td>\n",
       "    </tr>\n",
       "    <tr>\n",
       "      <td>2019-11-18</td>\n",
       "      <td>202.467617</td>\n",
       "      <td>Monday</td>\n",
       "    </tr>\n",
       "    <tr>\n",
       "      <td>2019-11-19</td>\n",
       "      <td>199.042900</td>\n",
       "      <td>Tuesday</td>\n",
       "    </tr>\n",
       "    <tr>\n",
       "      <td>2019-11-20</td>\n",
       "      <td>166.180683</td>\n",
       "      <td>Wednesday</td>\n",
       "    </tr>\n",
       "    <tr>\n",
       "      <td>2019-11-21</td>\n",
       "      <td>206.037350</td>\n",
       "      <td>Thursday</td>\n",
       "    </tr>\n",
       "  </tbody>\n",
       "</table>\n",
       "</div>"
      ],
      "text/plain": [
       "            minutes_played local_day_of_week\n",
       "2019-11-17       30.796683            Sunday\n",
       "2019-11-18      202.467617            Monday\n",
       "2019-11-19      199.042900           Tuesday\n",
       "2019-11-20      166.180683         Wednesday\n",
       "2019-11-21      206.037350          Thursday"
      ]
     },
     "execution_count": 41,
     "metadata": {},
     "output_type": "execute_result"
    }
   ],
   "source": [
    "merged_minutes_per_day.head()"
   ]
  },
  {
   "cell_type": "code",
   "execution_count": 42,
   "metadata": {},
   "outputs": [],
   "source": [
    "# Find the number of minutes played per day of week\n",
    "\n",
    "days = ['Monday','Tuesday','Wednesday','Thursday','Friday','Saturday','Sunday']\n",
    "\n",
    "time_per_day = []\n",
    "\n",
    "for day in days:\n",
    "    \n",
    "    df_days = merged_minutes_per_day[merged_minutes_per_day.local_day_of_week == day]\n",
    "    \n",
    "    time_per_day.append(list(df_days['minutes_played']))"
   ]
  },
  {
   "cell_type": "code",
   "execution_count": 43,
   "metadata": {},
   "outputs": [
    {
     "data": {
      "text/html": [
       "\n",
       "        <iframe\n",
       "            width=\"100%\"\n",
       "            height=\"525px\"\n",
       "            src=\"https://plot.ly/~bart23/63.embed\"\n",
       "            frameborder=\"0\"\n",
       "            allowfullscreen\n",
       "        ></iframe>\n",
       "        "
      ],
      "text/plain": [
       "<IPython.lib.display.IFrame at 0x7f0d20249610>"
      ]
     },
     "execution_count": 43,
     "metadata": {},
     "output_type": "execute_result"
    }
   ],
   "source": [
    "traces = []\n",
    "\n",
    "for i, j in enumerate(days):\n",
    "    \n",
    "    trace = go.Box(\n",
    "    y=time_per_day[i],\n",
    "    name = j,\n",
    "    boxmean=True\n",
    "    )\n",
    "    traces.append(trace)\n",
    "\n",
    "data = traces\n",
    "py.iplot(data)"
   ]
  },
  {
   "cell_type": "markdown",
   "metadata": {},
   "source": [
    "# Scatter Plot of Artist Plays"
   ]
  },
  {
   "cell_type": "code",
   "execution_count": 44,
   "metadata": {},
   "outputs": [],
   "source": [
    "def time_of_day_scatter_df(df = spotify_data, time_of_day=None):\n",
    "    \n",
    "    \"\"\"\n",
    "    Takes in a data frame, filters it for the time of day if the variable is not None, and finds the \n",
    "    frequency of plays, minutes played, and unique songs by artists. The function returns a data frame\n",
    "    with this information.\n",
    "    \"\"\"\n",
    "    \n",
    "    if time_of_day:\n",
    "        df = df[df['local_time_of_day'] == time_of_day]\n",
    "        \n",
    "    grouped_artists = df.groupby(by='artist_name')\n",
    "    \n",
    "    number_of_plays = grouped_artists['track_name'].count()\n",
    "    minutes_played = grouped_artists['minutes_played'].sum()\n",
    "    unique_songs_played = [len(i) for i in grouped_artists['track_name'].unique()]\n",
    "    \n",
    "    scatter_df = pd.DataFrame({'number_of_plays':number_of_plays, \n",
    "                           'minutes_played':minutes_played,\n",
    "                           'unique_songs_played':unique_songs_played},\n",
    "                         index = number_of_plays.index)\n",
    "    \n",
    "    return scatter_df"
   ]
  },
  {
   "cell_type": "code",
   "execution_count": 45,
   "metadata": {},
   "outputs": [],
   "source": [
    "scatter_df = time_of_day_scatter_df()"
   ]
  },
  {
   "cell_type": "code",
   "execution_count": 46,
   "metadata": {},
   "outputs": [
    {
     "data": {
      "text/html": [
       "<div>\n",
       "<style scoped>\n",
       "    .dataframe tbody tr th:only-of-type {\n",
       "        vertical-align: middle;\n",
       "    }\n",
       "\n",
       "    .dataframe tbody tr th {\n",
       "        vertical-align: top;\n",
       "    }\n",
       "\n",
       "    .dataframe thead th {\n",
       "        text-align: right;\n",
       "    }\n",
       "</style>\n",
       "<table border=\"1\" class=\"dataframe\">\n",
       "  <thead>\n",
       "    <tr style=\"text-align: right;\">\n",
       "      <th></th>\n",
       "      <th>number_of_plays</th>\n",
       "      <th>minutes_played</th>\n",
       "      <th>unique_songs_played</th>\n",
       "    </tr>\n",
       "    <tr>\n",
       "      <th>artist_name</th>\n",
       "      <th></th>\n",
       "      <th></th>\n",
       "      <th></th>\n",
       "    </tr>\n",
       "  </thead>\n",
       "  <tbody>\n",
       "    <tr>\n",
       "      <td>$uicideBoy$</td>\n",
       "      <td>38</td>\n",
       "      <td>44.088967</td>\n",
       "      <td>31</td>\n",
       "    </tr>\n",
       "    <tr>\n",
       "      <td>12th Planet</td>\n",
       "      <td>1</td>\n",
       "      <td>0.850133</td>\n",
       "      <td>1</td>\n",
       "    </tr>\n",
       "    <tr>\n",
       "      <td>16BL</td>\n",
       "      <td>1</td>\n",
       "      <td>0.013233</td>\n",
       "      <td>1</td>\n",
       "    </tr>\n",
       "    <tr>\n",
       "      <td>5 Seconds of Summer</td>\n",
       "      <td>2</td>\n",
       "      <td>0.040750</td>\n",
       "      <td>1</td>\n",
       "    </tr>\n",
       "    <tr>\n",
       "      <td>6 Dogs</td>\n",
       "      <td>1</td>\n",
       "      <td>0.012650</td>\n",
       "      <td>1</td>\n",
       "    </tr>\n",
       "  </tbody>\n",
       "</table>\n",
       "</div>"
      ],
      "text/plain": [
       "                     number_of_plays  minutes_played  unique_songs_played\n",
       "artist_name                                                              \n",
       "$uicideBoy$                       38       44.088967                   31\n",
       "12th Planet                        1        0.850133                    1\n",
       "16BL                               1        0.013233                    1\n",
       "5 Seconds of Summer                2        0.040750                    1\n",
       "6 Dogs                             1        0.012650                    1"
      ]
     },
     "execution_count": 46,
     "metadata": {},
     "output_type": "execute_result"
    }
   ],
   "source": [
    "scatter_df.head()"
   ]
  },
  {
   "cell_type": "code",
   "execution_count": 47,
   "metadata": {},
   "outputs": [
    {
     "data": {
      "text/html": [
       "\n",
       "        <iframe\n",
       "            width=\"100%\"\n",
       "            height=\"525px\"\n",
       "            src=\"https://plot.ly/~bart23/12.embed\"\n",
       "            frameborder=\"0\"\n",
       "            allowfullscreen\n",
       "        ></iframe>\n",
       "        "
      ],
      "text/plain": [
       "<IPython.lib.display.IFrame at 0x7f0d1ff3d1d0>"
      ]
     },
     "execution_count": 47,
     "metadata": {},
     "output_type": "execute_result"
    }
   ],
   "source": [
    "trace = go.Scatter(\n",
    "    \n",
    "    x = scatter_df.number_of_plays,\n",
    "    \n",
    "    y = [round(i, 1) for i in scatter_df.minutes_played],\n",
    "    \n",
    "    text = ['Artist: ' + str(i) + '<br>Minutes Played: ' + str(round(scatter_df.loc[i,'minutes_played'], 1)) +\n",
    "            '<br>Unique Songs: ' + str(scatter_df.loc[i, 'unique_songs_played']) for i in scatter_df.index],\n",
    "   \n",
    "    marker = dict(size = [round(i, 1) for i in scatter_df.unique_songs_played], cmin=0, cmax = len(scatter_df),\n",
    "                  colorscale='Viridis', color=[i for i in range(len(scatter_df))]),\n",
    "    \n",
    "    mode = 'markers'\n",
    ")\n",
    "\n",
    "data = [trace]\n",
    "\n",
    "layout = go.Layout(\n",
    "    title='Amount of Time Listened and Songs by Artist',\n",
    "    xaxis=dict(\n",
    "        title='Number of Songs Played',\n",
    "        gridcolor='rgb(255, 255, 255)',\n",
    "        zerolinewidth=1,\n",
    "        ticklen=5,\n",
    "        gridwidth=2,\n",
    "    ),\n",
    "    yaxis=dict(\n",
    "        title='Minutes Played',\n",
    "        gridcolor='rgb(255, 255, 255)',\n",
    "        zerolinewidth=1,\n",
    "        ticklen=5,\n",
    "        gridwidth=2,\n",
    "    ),\n",
    "    paper_bgcolor='rgb(243, 243, 243)',\n",
    "    plot_bgcolor='rgb(243, 243, 243)',\n",
    "    \n",
    "    annotations=[\n",
    "        dict(\n",
    "            \n",
    "            text='Size = Number of Unique Songs Played',\n",
    "            x=130,\n",
    "            y=20,\n",
    "            font={'color':'black'},\n",
    "            bordercolor='#c7c7c7',\n",
    "            borderwidth=2,\n",
    "            borderpad=4,\n",
    "            bgcolor='#fffaf0',\n",
    "            opacity=0.8,\n",
    "            showarrow=False\n",
    "\n",
    "        )\n",
    "    ]\n",
    ")\n",
    "\n",
    "\n",
    "fig = go.Figure(data=data, layout=layout)\n",
    "\n",
    "py.iplot(fig, filename='artist-scatter')"
   ]
  },
  {
   "cell_type": "code",
   "execution_count": 48,
   "metadata": {},
   "outputs": [
    {
     "data": {
      "text/html": [
       "\n",
       "        <iframe\n",
       "            width=\"100%\"\n",
       "            height=\"525px\"\n",
       "            src=\"https://plot.ly/~bart23/14.embed\"\n",
       "            frameborder=\"0\"\n",
       "            allowfullscreen\n",
       "        ></iframe>\n",
       "        "
      ],
      "text/plain": [
       "<IPython.lib.display.IFrame at 0x7f0d202eafd0>"
      ]
     },
     "execution_count": 48,
     "metadata": {},
     "output_type": "execute_result"
    }
   ],
   "source": [
    "button_layer_1_height = 1.12\n",
    "button_layer_2_height = 1.065\n",
    "\n",
    "scatter_morning = time_of_day_scatter_df(time_of_day='morning')\n",
    "scatter_afternoon = time_of_day_scatter_df(time_of_day='afternoon')\n",
    "scatter_evening = time_of_day_scatter_df(time_of_day='night')\n",
    "\n",
    "trace_all = go.Scatter(\n",
    "    \n",
    "    x = scatter_df.number_of_plays,\n",
    "    \n",
    "    y = [round(i, 1) for i in scatter_df.minutes_played],\n",
    "    \n",
    "    text = ['Artist: ' + str(i) + '<br>Minutes Played: ' + str(round(scatter_df.loc[i,'minutes_played'], 1)) +\n",
    "            '<br>Unique Songs: ' + str(scatter_df.loc[i, 'unique_songs_played']) for i in scatter_df.index],\n",
    "   \n",
    "    marker = dict(size = [round(i, 1) for i in scatter_df.unique_songs_played], cmin=0, cmax = len(scatter_df),\n",
    "                  colorscale='Viridis', color=[i for i in range(len(scatter_df))]),\n",
    "    \n",
    "    mode = 'markers',\n",
    "    visible=True,\n",
    "    name='All'\n",
    ")\n",
    "\n",
    "trace_morning = go.Scatter(\n",
    "    \n",
    "    x = scatter_morning.number_of_plays,\n",
    "    \n",
    "    y = [round(i, 1) for i in scatter_morning.minutes_played],\n",
    "    \n",
    "    text = ['Artist: ' + str(i) + '<br>Minutes Played: ' + str(round(scatter_morning.loc[i,'minutes_played'], 1)) +\n",
    "            '<br>Unique Songs: ' + str(scatter_morning.loc[i, 'unique_songs_played']) for i in scatter_morning.index],\n",
    "   \n",
    "    marker = dict(size = [round(i, 1) for i in scatter_morning.unique_songs_played], cmin=0, cmax = len(scatter_morning),\n",
    "                  colorscale='Viridis', color=[i for i in range(len(scatter_morning))]),\n",
    "    \n",
    "    mode = 'markers',\n",
    "    visible=False,\n",
    "    name='Morning'\n",
    ")\n",
    "\n",
    "trace_afternoon = go.Scatter(\n",
    "    \n",
    "    x = scatter_afternoon.number_of_plays,\n",
    "    \n",
    "    y = [round(i, 1) for i in scatter_afternoon.minutes_played],\n",
    "    \n",
    "    text = ['Artist: ' + str(i) + '<br>Minutes Played: ' + str(round(scatter_afternoon.loc[i,'minutes_played'], 1)) +\n",
    "            '<br>Unique Songs: ' + str(scatter_afternoon.loc[i, 'unique_songs_played']) for i in scatter_afternoon.index],\n",
    "   \n",
    "    marker = dict(size = [round(i, 1) for i in scatter_afternoon.unique_songs_played], cmin=0, cmax = len(scatter_afternoon),\n",
    "                  colorscale='Viridis', color=[i for i in range(len(scatter_afternoon))]),\n",
    "    \n",
    "    mode = 'markers',\n",
    "    visible=False,\n",
    "    name='Afternoon'\n",
    "    \n",
    ")\n",
    "\n",
    "trace_evening = go.Scatter(\n",
    "    \n",
    "    x = scatter_evening.number_of_plays,\n",
    "    \n",
    "    y = [round(i, 1) for i in scatter_evening.minutes_played],\n",
    "    \n",
    "    text = ['Artist: ' + str(i) + '<br>Minutes Played: ' + str(round(scatter_evening.loc[i,'minutes_played'], 1)) +\n",
    "            '<br>Unique Songs: ' + str(scatter_evening.loc[i, 'unique_songs_played']) for i in scatter_evening.index],\n",
    "   \n",
    "    marker = dict(size = [round(i, 1) for i in scatter_evening.unique_songs_played], cmin=0, cmax = len(scatter_evening),\n",
    "                  colorscale='Viridis', color=[i for i in range(len(scatter_evening))]),\n",
    "    \n",
    "    mode = 'markers',\n",
    "    visible=False,\n",
    "    name='Evening'\n",
    "    \n",
    ")\n",
    "\n",
    "data = [trace_all, trace_morning, trace_afternoon, trace_evening]\n",
    "\n",
    "updatemenus = list([\n",
    "    dict(\n",
    "         buttons=list([   \n",
    "            dict(label = 'All',\n",
    "                 method = 'update',\n",
    "                 args = [{'visible': [True, False, False, False]},\n",
    "                         {'title': 'All Day'}]),\n",
    "            dict(label = 'Morning',\n",
    "                 method = 'update',\n",
    "                 args = [{'visible': [False, True, False, False]},\n",
    "                         {'title': 'Morning'}]),\n",
    "            dict(label = 'Afternoon',\n",
    "                 method = 'update',\n",
    "                 args = [{'visible': [False, False, True, False]},\n",
    "                         {'title': 'Afternoon'}]),\n",
    "            dict(label = 'Evening',\n",
    "                 method = 'update',\n",
    "                 args = [{'visible': [False, False, False, True]},\n",
    "                         {'title': 'Evening'}])\n",
    "        ]),\n",
    "        type='buttons',\n",
    "        direction = 'right',\n",
    "        pad = {'r': 10, 't': 10},\n",
    "        showactive = True,\n",
    "        x = 0.3,\n",
    "        xanchor = 'left',\n",
    "        y = button_layer_1_height,\n",
    "        yanchor = 'top' )\n",
    "])\n",
    "                \n",
    "layout = dict(title='Artist Variance by Time of Day', showlegend=False,\n",
    "              updatemenus=updatemenus)\n",
    "\n",
    "fig = dict(data=data, layout=layout)\n",
    "\n",
    "py.iplot(fig, filename='artist_by_time_of_day')"
   ]
  },
  {
   "cell_type": "code",
   "execution_count": null,
   "metadata": {},
   "outputs": [],
   "source": []
  }
 ],
 "metadata": {
  "kernelspec": {
   "display_name": "Python 3",
   "language": "python",
   "name": "python3"
  },
  "language_info": {
   "codemirror_mode": {
    "name": "ipython",
    "version": 3
   },
   "file_extension": ".py",
   "mimetype": "text/x-python",
   "name": "python",
   "nbconvert_exporter": "python",
   "pygments_lexer": "ipython3",
   "version": "3.7.4"
  }
 },
 "nbformat": 4,
 "nbformat_minor": 2
}
