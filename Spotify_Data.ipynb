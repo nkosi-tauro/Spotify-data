{
 "cells": [
  {
   "cell_type": "markdown",
   "metadata": {},
   "source": [
    "# Spotify Data Project\n",
    "\n",
    "The goal of this project is to transform my Spotify data into a series of visual graphics that can tell me about my listening habits, including who I listen to, when, and how often."
   ]
  },
  {
   "cell_type": "code",
   "execution_count": 11,
   "metadata": {},
   "outputs": [],
   "source": [
    "# Import libraries\n",
    "\n",
    "import pandas as pd\n",
    "import numpy as np\n",
    "import matplotlib.pyplot as plt\n",
    "import seaborn as sns; sns.set()\n",
    "\n",
    "import json\n",
    "from pprint import pprint\n",
    "\n",
    "import plotly\n",
    "plotly.tools.set_credentials_file(username=(your_username), api_key=(your_apikey))\n",
    "import plotly.plotly as py\n",
    "import plotly.graph_objs as go\n",
    "\n",
    "pd.set_option('display.max_rows', 500)"
   ]
  },
  {
   "cell_type": "code",
   "execution_count": 12,
   "metadata": {},
   "outputs": [
    {
     "name": "stdout",
     "output_type": "stream",
     "text": [
      "[{'artistName': 'Emma Bale',\n",
      "  'endTime': '2018-11-26 08:31',\n",
      "  'msPlayed': 2520,\n",
      "  'trackName': 'Run - Lost Frequencies Radio Edit'},\n",
      " {'artistName': 'Thomas Hayes',\n",
      "  'endTime': '2018-11-26 08:33',\n",
      "  'msPlayed': 137320,\n",
      "  'trackName': 'We Can Be Beautiful - Radio Edit'},\n",
      " {'artistName': 'Black Smurf',\n",
      "  'endTime': '2018-11-26 08:36',\n",
      "  'msPlayed': 165432,\n",
      "  'trackName': 'Sorry I Warned U'},\n",
      " {'artistName': 'Black Smurf',\n",
      "  'endTime': '2018-11-26 08:39',\n",
      "  'msPlayed': 176875,\n",
      "  'trackName': 'Bankrolls'},\n",
      " {'artistName': 'Black Smurf',\n",
      "  'endTime': '2018-11-26 08:41',\n",
      "  'msPlayed': 132284,\n",
      "  'trackName': '411'}]\n"
     ]
    }
   ],
   "source": [
    "# Read in the data from a Json format and look at the results\n",
    "\n",
    "with open('C:\\\\Users\\\\acer\\\\Documents\\\\Tutorials\\\\Spotify\\\\spotify2\\\\StreamingHistory.json', encoding='utf8') as f:\n",
    "    data = json.load(f)\n",
    "\n",
    "pprint(data[:5])"
   ]
  },
  {
   "cell_type": "code",
   "execution_count": 13,
   "metadata": {},
   "outputs": [],
   "source": [
    "# Convert from JSON to a data frame\n",
    "\n",
    "spotify_data = pd.DataFrame()\n",
    "\n",
    "def extract_json_value(column_name):\n",
    "    \n",
    "    return [i[column_name] for i in data]\n",
    "\n",
    "spotify_data['artist_name'] = extract_json_value('artistName')\n",
    "spotify_data['end_time'] = extract_json_value('endTime')\n",
    "spotify_data['ms_played'] = extract_json_value('msPlayed')\n",
    "spotify_data['track_name'] = extract_json_value('trackName')"
   ]
  },
  {
   "cell_type": "code",
   "execution_count": 14,
   "metadata": {},
   "outputs": [
    {
     "data": {
      "text/html": [
       "<div>\n",
       "<style scoped>\n",
       "    .dataframe tbody tr th:only-of-type {\n",
       "        vertical-align: middle;\n",
       "    }\n",
       "\n",
       "    .dataframe tbody tr th {\n",
       "        vertical-align: top;\n",
       "    }\n",
       "\n",
       "    .dataframe thead th {\n",
       "        text-align: right;\n",
       "    }\n",
       "</style>\n",
       "<table border=\"1\" class=\"dataframe\">\n",
       "  <thead>\n",
       "    <tr style=\"text-align: right;\">\n",
       "      <th></th>\n",
       "      <th>artist_name</th>\n",
       "      <th>end_time</th>\n",
       "      <th>ms_played</th>\n",
       "      <th>track_name</th>\n",
       "    </tr>\n",
       "  </thead>\n",
       "  <tbody>\n",
       "    <tr>\n",
       "      <th>2021</th>\n",
       "      <td>Pouya</td>\n",
       "      <td>2018-11-30 11:37</td>\n",
       "      <td>145609</td>\n",
       "      <td>Daddy Issues</td>\n",
       "    </tr>\n",
       "    <tr>\n",
       "      <th>1958</th>\n",
       "      <td>JGRXXN</td>\n",
       "      <td>2018-11-30 07:03</td>\n",
       "      <td>74160</td>\n",
       "      <td>Mask &amp; Tones</td>\n",
       "    </tr>\n",
       "    <tr>\n",
       "      <th>986</th>\n",
       "      <td>Dretti Franks</td>\n",
       "      <td>2018-11-28 21:31</td>\n",
       "      <td>194</td>\n",
       "      <td>The Mud</td>\n",
       "    </tr>\n",
       "    <tr>\n",
       "      <th>1154</th>\n",
       "      <td>Lights &amp; Motion</td>\n",
       "      <td>2018-11-28 21:31</td>\n",
       "      <td>0</td>\n",
       "      <td>Everest</td>\n",
       "    </tr>\n",
       "    <tr>\n",
       "      <th>2611</th>\n",
       "      <td>Datsik</td>\n",
       "      <td>2018-12-04 06:44</td>\n",
       "      <td>106267</td>\n",
       "      <td>Monster</td>\n",
       "    </tr>\n",
       "    <tr>\n",
       "      <th>2452</th>\n",
       "      <td>Trap City</td>\n",
       "      <td>2018-12-03 10:02</td>\n",
       "      <td>187988</td>\n",
       "      <td>Wasted</td>\n",
       "    </tr>\n",
       "    <tr>\n",
       "      <th>1722</th>\n",
       "      <td>Denzel Curry</td>\n",
       "      <td>2018-11-29 07:38</td>\n",
       "      <td>175906</td>\n",
       "      <td>SWITCH IT UP | ZWITCH 1T UP</td>\n",
       "    </tr>\n",
       "    <tr>\n",
       "      <th>394</th>\n",
       "      <td>Ramirez</td>\n",
       "      <td>2018-11-28 04:46</td>\n",
       "      <td>144812</td>\n",
       "      <td>The Bodies Fall Just Like the Leaves</td>\n",
       "    </tr>\n",
       "    <tr>\n",
       "      <th>686</th>\n",
       "      <td>Denzel Curry</td>\n",
       "      <td>2018-11-28 07:41</td>\n",
       "      <td>189974</td>\n",
       "      <td>Ultimate</td>\n",
       "    </tr>\n",
       "    <tr>\n",
       "      <th>782</th>\n",
       "      <td>Ramirez</td>\n",
       "      <td>2018-11-28 15:16</td>\n",
       "      <td>7720</td>\n",
       "      <td>Na Na Na Na Na (Caught Slippin)</td>\n",
       "    </tr>\n",
       "  </tbody>\n",
       "</table>\n",
       "</div>"
      ],
      "text/plain": [
       "          artist_name          end_time  ms_played  \\\n",
       "2021            Pouya  2018-11-30 11:37     145609   \n",
       "1958           JGRXXN  2018-11-30 07:03      74160   \n",
       "986     Dretti Franks  2018-11-28 21:31        194   \n",
       "1154  Lights & Motion  2018-11-28 21:31          0   \n",
       "2611           Datsik  2018-12-04 06:44     106267   \n",
       "2452        Trap City  2018-12-03 10:02     187988   \n",
       "1722     Denzel Curry  2018-11-29 07:38     175906   \n",
       "394           Ramirez  2018-11-28 04:46     144812   \n",
       "686      Denzel Curry  2018-11-28 07:41     189974   \n",
       "782           Ramirez  2018-11-28 15:16       7720   \n",
       "\n",
       "                                track_name  \n",
       "2021                          Daddy Issues  \n",
       "1958                          Mask & Tones  \n",
       "986                                The Mud  \n",
       "1154                               Everest  \n",
       "2611                               Monster  \n",
       "2452                                Wasted  \n",
       "1722           SWITCH IT UP | ZWITCH 1T UP  \n",
       "394   The Bodies Fall Just Like the Leaves  \n",
       "686                               Ultimate  \n",
       "782        Na Na Na Na Na (Caught Slippin)  "
      ]
     },
     "execution_count": 14,
     "metadata": {},
     "output_type": "execute_result"
    }
   ],
   "source": [
    "spotify_data.sample(10)"
   ]
  },
  {
   "cell_type": "code",
   "execution_count": 15,
   "metadata": {},
   "outputs": [
    {
     "name": "stdout",
     "output_type": "stream",
     "text": [
      "<class 'pandas.core.frame.DataFrame'>\n",
      "RangeIndex: 2827 entries, 0 to 2826\n",
      "Data columns (total 4 columns):\n",
      "artist_name    2827 non-null object\n",
      "end_time       2827 non-null object\n",
      "ms_played      2827 non-null int64\n",
      "track_name     2827 non-null object\n",
      "dtypes: int64(1), object(3)\n",
      "memory usage: 88.4+ KB\n"
     ]
    }
   ],
   "source": [
    "spotify_data.info()"
   ]
  },
  {
   "cell_type": "markdown",
   "metadata": {},
   "source": [
    "# Format columns and add variables"
   ]
  },
  {
   "cell_type": "code",
   "execution_count": 16,
   "metadata": {},
   "outputs": [],
   "source": [
    "# Convert the timestamp column to datetime\n",
    "\n",
    "spotify_data['end_time'] = pd.to_datetime(spotify_data['end_time'])"
   ]
  },
  {
   "cell_type": "code",
   "execution_count": 17,
   "metadata": {},
   "outputs": [],
   "source": [
    "# Add additional time columns for more interpretable times; drop the MS column\n",
    "\n",
    "spotify_data['seconds_played'] = spotify_data.ms_played.divide(1000)\n",
    "spotify_data['minutes_played'] = spotify_data.seconds_played.divide(60)\n",
    "\n",
    "spotify_data.drop('ms_played', axis=1, inplace=True)"
   ]
  },
  {
   "cell_type": "code",
   "execution_count": 18,
   "metadata": {},
   "outputs": [
    {
     "data": {
      "text/html": [
       "<div>\n",
       "<style scoped>\n",
       "    .dataframe tbody tr th:only-of-type {\n",
       "        vertical-align: middle;\n",
       "    }\n",
       "\n",
       "    .dataframe tbody tr th {\n",
       "        vertical-align: top;\n",
       "    }\n",
       "\n",
       "    .dataframe thead th {\n",
       "        text-align: right;\n",
       "    }\n",
       "</style>\n",
       "<table border=\"1\" class=\"dataframe\">\n",
       "  <thead>\n",
       "    <tr style=\"text-align: right;\">\n",
       "      <th></th>\n",
       "      <th>artist_name</th>\n",
       "      <th>end_time</th>\n",
       "      <th>track_name</th>\n",
       "      <th>seconds_played</th>\n",
       "      <th>minutes_played</th>\n",
       "    </tr>\n",
       "  </thead>\n",
       "  <tbody>\n",
       "    <tr>\n",
       "      <th>1116</th>\n",
       "      <td>$uicideBoy$</td>\n",
       "      <td>2018-11-28 21:31:00</td>\n",
       "      <td>Magazine</td>\n",
       "      <td>0.682</td>\n",
       "      <td>0.011367</td>\n",
       "    </tr>\n",
       "    <tr>\n",
       "      <th>881</th>\n",
       "      <td>ILLENIUM</td>\n",
       "      <td>2018-11-28 21:31:00</td>\n",
       "      <td>Lost</td>\n",
       "      <td>0.000</td>\n",
       "      <td>0.000000</td>\n",
       "    </tr>\n",
       "    <tr>\n",
       "      <th>2083</th>\n",
       "      <td>Devilish Trio</td>\n",
       "      <td>2018-12-01 04:04:00</td>\n",
       "      <td>Trinity</td>\n",
       "      <td>168.557</td>\n",
       "      <td>2.809283</td>\n",
       "    </tr>\n",
       "    <tr>\n",
       "      <th>1759</th>\n",
       "      <td>Denzel Curry</td>\n",
       "      <td>2018-11-29 09:27:00</td>\n",
       "      <td>Ice Age</td>\n",
       "      <td>56.760</td>\n",
       "      <td>0.946000</td>\n",
       "    </tr>\n",
       "    <tr>\n",
       "      <th>13</th>\n",
       "      <td>Black Smurf</td>\n",
       "      <td>2018-11-26 09:01:00</td>\n",
       "      <td>Inner Conflict</td>\n",
       "      <td>131.213</td>\n",
       "      <td>2.186883</td>\n",
       "    </tr>\n",
       "    <tr>\n",
       "      <th>70</th>\n",
       "      <td>Husman</td>\n",
       "      <td>2018-11-26 11:19:00</td>\n",
       "      <td>We Won't Fall - Extended Mix</td>\n",
       "      <td>6.570</td>\n",
       "      <td>0.109500</td>\n",
       "    </tr>\n",
       "    <tr>\n",
       "      <th>1490</th>\n",
       "      <td>The Chainsmokers</td>\n",
       "      <td>2018-11-28 21:31:00</td>\n",
       "      <td>Paris - VINAI Remix</td>\n",
       "      <td>2.379</td>\n",
       "      <td>0.039650</td>\n",
       "    </tr>\n",
       "    <tr>\n",
       "      <th>518</th>\n",
       "      <td>Lukas Graham</td>\n",
       "      <td>2018-11-28 04:46:00</td>\n",
       "      <td>7 Years</td>\n",
       "      <td>0.356</td>\n",
       "      <td>0.005933</td>\n",
       "    </tr>\n",
       "    <tr>\n",
       "      <th>448</th>\n",
       "      <td>Armin van Buuren</td>\n",
       "      <td>2018-11-28 04:46:00</td>\n",
       "      <td>Blah Blah Blah (Mix Cut)</td>\n",
       "      <td>0.000</td>\n",
       "      <td>0.000000</td>\n",
       "    </tr>\n",
       "    <tr>\n",
       "      <th>1010</th>\n",
       "      <td>5 Seconds of Summer</td>\n",
       "      <td>2018-11-28 21:31:00</td>\n",
       "      <td>Woke Up In Japan</td>\n",
       "      <td>0.360</td>\n",
       "      <td>0.006000</td>\n",
       "    </tr>\n",
       "  </tbody>\n",
       "</table>\n",
       "</div>"
      ],
      "text/plain": [
       "              artist_name            end_time                    track_name  \\\n",
       "1116          $uicideBoy$ 2018-11-28 21:31:00                      Magazine   \n",
       "881              ILLENIUM 2018-11-28 21:31:00                          Lost   \n",
       "2083        Devilish Trio 2018-12-01 04:04:00                       Trinity   \n",
       "1759         Denzel Curry 2018-11-29 09:27:00                       Ice Age   \n",
       "13            Black Smurf 2018-11-26 09:01:00                Inner Conflict   \n",
       "70                 Husman 2018-11-26 11:19:00  We Won't Fall - Extended Mix   \n",
       "1490     The Chainsmokers 2018-11-28 21:31:00           Paris - VINAI Remix   \n",
       "518          Lukas Graham 2018-11-28 04:46:00                       7 Years   \n",
       "448      Armin van Buuren 2018-11-28 04:46:00      Blah Blah Blah (Mix Cut)   \n",
       "1010  5 Seconds of Summer 2018-11-28 21:31:00              Woke Up In Japan   \n",
       "\n",
       "      seconds_played  minutes_played  \n",
       "1116           0.682        0.011367  \n",
       "881            0.000        0.000000  \n",
       "2083         168.557        2.809283  \n",
       "1759          56.760        0.946000  \n",
       "13           131.213        2.186883  \n",
       "70             6.570        0.109500  \n",
       "1490           2.379        0.039650  \n",
       "518            0.356        0.005933  \n",
       "448            0.000        0.000000  \n",
       "1010           0.360        0.006000  "
      ]
     },
     "execution_count": 18,
     "metadata": {},
     "output_type": "execute_result"
    }
   ],
   "source": [
    "spotify_data.sample(10)"
   ]
  },
  {
   "cell_type": "markdown",
   "metadata": {},
   "source": [
    "# Most populat artists and songs"
   ]
  },
  {
   "cell_type": "code",
   "execution_count": 19,
   "metadata": {},
   "outputs": [
    {
     "name": "stdout",
     "output_type": "stream",
     "text": [
      "The most played artists by count were: \n",
      "\n",
      "artist_name\n",
      "Ramirez             298\n",
      "Black Smurf         297\n",
      "$uicideBoy$         260\n",
      "Denzel Curry        189\n",
      "Trap City           161\n",
      "Armin van Buuren     89\n",
      "Wasted Penguinz      64\n",
      "deadmau5             50\n",
      "Night Lovell         43\n",
      "Krewella             35\n",
      "BONES                35\n",
      "Devilish Trio        32\n",
      "Andrew Rayel         27\n",
      "Joyner Lucas         27\n",
      "Yung Simmie          27\n",
      "Cyber                24\n",
      "Miss K8              24\n",
      "Triple One           23\n",
      "Headhunterz          21\n",
      "RL Grime             20\n",
      "Lights & Motion      19\n",
      "Sullivan King        18\n",
      "Knife Party          16\n",
      "PhaseOne             16\n",
      "Excision             15\n",
      "Name: track_name, dtype: int64\n"
     ]
    }
   ],
   "source": [
    "# Find the most popular artists by number of times played\n",
    "\n",
    "most_popular_artists_by_count = spotify_data.groupby(by='artist_name')['track_name'].count().sort_values(ascending=False)[:25]\n",
    "\n",
    "print('The most played artists by count were: \\n\\n{}'.format(most_popular_artists_by_count))"
   ]
  },
  {
   "cell_type": "code",
   "execution_count": 20,
   "metadata": {},
   "outputs": [
    {
     "name": "stdout",
     "output_type": "stream",
     "text": [
      "High five! You successfully sent some data to your account on plotly. View your plot in your browser at https://plot.ly/~bart23/0 or inside your plot.ly account where it is named 'popular_artists'\n"
     ]
    },
    {
     "name": "stderr",
     "output_type": "stream",
     "text": [
      "c:\\users\\acer\\appdata\\local\\programs\\python\\python37\\lib\\site-packages\\IPython\\core\\display.py:689: UserWarning:\n",
      "\n",
      "Consider using IPython.display.IFrame instead\n",
      "\n"
     ]
    },
    {
     "data": {
      "text/html": [
       "<iframe id=\"igraph\" scrolling=\"no\" style=\"border:none;\" seamless=\"seamless\" src=\"https://plot.ly/~bart23/0.embed\" height=\"525px\" width=\"100%\"></iframe>"
      ],
      "text/plain": [
       "<plotly.tools.PlotlyDisplay object>"
      ]
     },
     "execution_count": 20,
     "metadata": {},
     "output_type": "execute_result"
    }
   ],
   "source": [
    "# Visualize the most popular artists with a standard bar chart\n",
    "\n",
    "data = [\n",
    "    \n",
    "    go.Bar(\n",
    "            x=most_popular_artists_by_count.index,\n",
    "            y=most_popular_artists_by_count,\n",
    "            text=most_popular_artists_by_count,\n",
    "            textposition='auto',\n",
    "            opacity=0.75\n",
    "            \n",
    "    )]\n",
    "\n",
    "layout = go.Layout(\n",
    "    title='Popularity of Artists by Count',\n",
    "    \n",
    "    yaxis= dict(\n",
    "        title='Number of Times Played',\n",
    "        gridcolor='rgb(255, 255, 255)',\n",
    "        zerolinewidth=1,\n",
    "        ticklen=5,\n",
    "        gridwidth=2,\n",
    "        titlefont=dict(size=15))\n",
    ")\n",
    "\n",
    "fig = go.Figure(data=data, layout=layout)\n",
    "        \n",
    "py.iplot(fig, filename='popular_artists')"
   ]
  },
  {
   "cell_type": "code",
   "execution_count": 21,
   "metadata": {},
   "outputs": [
    {
     "data": {
      "text/plain": [
       "artist_name\n",
       "Black Smurf        469.178133\n",
       "Ramirez            467.044667\n",
       "Trap City          339.477800\n",
       "Denzel Curry       302.793900\n",
       "$uicideBoy$        285.568917\n",
       "Wasted Penguinz    185.365450\n",
       "Devilish Trio       75.726867\n",
       "Oolacile            53.443533\n",
       "PhaseOne            48.977750\n",
       "Sullivan King       47.944083\n",
       "Excision            44.674167\n",
       "Yung Simmie         44.671317\n",
       "Krewella            42.790350\n",
       "Andrew Rayel        29.095900\n",
       "Triple One          29.032417\n",
       "Solstice            25.285450\n",
       "RL Grime            24.779767\n",
       "Headhunterz         24.139583\n",
       "Sephyx              24.123417\n",
       "Fat Nick            21.665600\n",
       "Name: minutes_played, dtype: float64"
      ]
     },
     "execution_count": 21,
     "metadata": {},
     "output_type": "execute_result"
    }
   ],
   "source": [
    "# Look at most popular artists by amount of time played\n",
    "\n",
    "most_popular_artists_by_time = spotify_data.groupby(by='artist_name')['minutes_played'].sum().sort_values(ascending=False)[:20]\n",
    "\n",
    "most_popular_artists_by_time"
   ]
  },
  {
   "cell_type": "code",
   "execution_count": 22,
   "metadata": {},
   "outputs": [
    {
     "data": {
      "text/plain": [
       "Sarcophagus III                                  20\n",
       "Bankrolls                                        18\n",
       "Sick & Tired                                     15\n",
       "Money Hypnosis                                   14\n",
       "SIRENS | Z1RENZ [FEAT. J.I.D | J.1.D]            14\n",
       "The Tears from Marys Eyes                        14\n",
       "All Gas No Brakes                                14\n",
       "New Pain                                         14\n",
       "Budget Cuts                                      13\n",
       "The Mystical Warlock                             13\n",
       "Inner Conflict                                   13\n",
       "Northern Lights                                  12\n",
       "I Am Hustle God                                  12\n",
       "Full Metal                                       11\n",
       "Intro                                            11\n",
       "Self Management                                  11\n",
       "The River Will Remain Cold                       11\n",
       "Knotty Head                                      11\n",
       "THE BLACKEST BALLOON | THE 13LACKEZT 13ALLOON    11\n",
       "Day in the Life                                  11\n",
       "Name: track_name, dtype: int64"
      ]
     },
     "execution_count": 22,
     "metadata": {},
     "output_type": "execute_result"
    }
   ],
   "source": [
    "# Look at the most popular songs played\n",
    "\n",
    "most_popular_songs = spotify_data.track_name.value_counts().sort_values(ascending=False)[:20]\n",
    "\n",
    "most_popular_songs"
   ]
  },
  {
   "cell_type": "markdown",
   "metadata": {},
   "source": [
    "# Time of day to listen"
   ]
  },
  {
   "cell_type": "code",
   "execution_count": 23,
   "metadata": {},
   "outputs": [],
   "source": [
    "# Create time of day variable\n",
    "\n",
    "def time_of_day(datetime_column, df=spotify_data):\n",
    "    \n",
    "    \"\"\"\n",
    "    Takes in a datetime column and returns the time of day that the datetime occurs.\n",
    "    \n",
    "    Before 12 PM is considered morning, between 12 PM and 5 PM afternoon, and after 5 PM evening.\n",
    "    \"\"\"\n",
    "    \n",
    "    time_of_day = []\n",
    "    \n",
    "    for i in df[datetime_column]:\n",
    "        \n",
    "        i = i.hour\n",
    "        \n",
    "        if i <= 12:\n",
    "            \n",
    "            time_of_day.append('morning')\n",
    "            \n",
    "        elif i < 17:\n",
    "            \n",
    "            time_of_day.append('afternoon')\n",
    "            \n",
    "        else:\n",
    "            \n",
    "            time_of_day.append('night')\n",
    "    \n",
    "    time_of_day = pd.Categorical(time_of_day, categories=['morning','afternoon','night'], ordered=True)\n",
    "            \n",
    "    return time_of_day"
   ]
  },
  {
   "cell_type": "code",
   "execution_count": 24,
   "metadata": {},
   "outputs": [],
   "source": [
    "from datetime import datetime\n",
    "import time\n",
    "\n",
    "def datetime_from_utc_to_local(utc_datetime):\n",
    "    \n",
    "    \"\"\"\n",
    "    Converts a column from a UTC timestamp to local time, then returns the local time.\n",
    "    \"\"\"\n",
    "    now_timestamp = time.time()\n",
    "    offset = datetime.fromtimestamp(now_timestamp) - datetime.utcfromtimestamp(now_timestamp)\n",
    "    return utc_datetime + offset"
   ]
  },
  {
   "cell_type": "code",
   "execution_count": 25,
   "metadata": {},
   "outputs": [],
   "source": [
    "## Convert from UTC time to eastern time\n",
    "\n",
    "spotify_data['local_time'] = datetime_from_utc_to_local(spotify_data.end_time)\n",
    "spotify_data['local_time_of_day'] = time_of_day('local_time')"
   ]
  },
  {
   "cell_type": "code",
   "execution_count": 26,
   "metadata": {},
   "outputs": [],
   "source": [
    "# Add day of week and organize days as categories\n",
    "\n",
    "spotify_data['local_day_of_week'] = spotify_data['local_time'].dt.day_name()\n",
    "\n",
    "spotify_data['local_day_of_week'] = pd.Categorical(spotify_data['local_day_of_week'], \n",
    "                                   categories=['Monday','Tuesday','Wednesday','Thursday','Friday','Saturday', 'Sunday'], \n",
    "                                   ordered=True)"
   ]
  },
  {
   "cell_type": "code",
   "execution_count": 27,
   "metadata": {},
   "outputs": [],
   "source": [
    "## Create a pivot table by time of day and day of week\n",
    "\n",
    "time_of_day_local_pivot = spotify_data.pivot_table(columns='local_time_of_day', index='local_day_of_week', \n",
    "                                             values='minutes_played', aggfunc=np.sum)\n",
    "\n",
    "start_date = spotify_data.local_time.min()\n",
    "end_date = spotify_data.local_time.max()\n",
    "\n",
    "difference_in_weeks = (end_date - start_date).days / (7)\n",
    "time_of_day_utc_pivot = time_of_day_local_pivot.divide(difference_in_weeks)"
   ]
  },
  {
   "cell_type": "code",
   "execution_count": 28,
   "metadata": {},
   "outputs": [
    {
     "data": {
      "text/html": [
       "<iframe id=\"igraph\" scrolling=\"no\" style=\"border:none;\" seamless=\"seamless\" src=\"https://plot.ly/~bart23/2.embed\" height=\"525px\" width=\"100%\"></iframe>"
      ],
      "text/plain": [
       "<plotly.tools.PlotlyDisplay object>"
      ]
     },
     "execution_count": 28,
     "metadata": {},
     "output_type": "execute_result"
    }
   ],
   "source": [
    "trace = go.Heatmap(z=time_of_day_utc_pivot.values,\n",
    "                  x=time_of_day_utc_pivot.columns,\n",
    "                  y=time_of_day_utc_pivot.index,\n",
    "                  colorscale='Greens',\n",
    "                  reversescale=True)\n",
    "data=[trace]\n",
    "py.iplot(data, filename='spotify_heatmap')"
   ]
  },
  {
   "cell_type": "markdown",
   "metadata": {},
   "source": [
    "# Higher likelihood to play a song"
   ]
  },
  {
   "cell_type": "code",
   "execution_count": 29,
   "metadata": {},
   "outputs": [],
   "source": [
    "## Read in playlsit data\n",
    "\n",
    "with open('C:\\\\Users\\\\acer\\\\Documents\\\\Tutorials\\\\Spotify\\\\spotify2\\\\Playlist.json', encoding='utf8') as f:\n",
    "    playlist_data = json.load(f)"
   ]
  },
  {
   "cell_type": "code",
   "execution_count": 30,
   "metadata": {},
   "outputs": [],
   "source": [
    "my_playlist = pd.DataFrame()\n",
    "\n",
    "def extract_json_value_playlist(column_name, data_source = playlist_data):\n",
    "    \n",
    "    \"\"\"\n",
    "    Takes in a column from a JSON format, extracts the values, and returns a column that can be used\n",
    "    in a data frame\n",
    "    \"\"\"\n",
    "    \n",
    "    column_values = []\n",
    "    \n",
    "    for i in range([len(i) for i in data_source['playlists']][0]):\n",
    "        try:\n",
    "            \n",
    "            for k in range(len(data_source['playlists'][i]['tracks'])):\n",
    "\n",
    "                column_values.append(data_source['playlists'][i]['tracks'][k][column_name])\n",
    "                \n",
    "        except:\n",
    "            continue\n",
    "\n",
    "    return column_values\n",
    "\n",
    "my_playlist['artist_name'] = extract_json_value_playlist('artistName')\n",
    "my_playlist['track_name'] = extract_json_value_playlist('trackName')"
   ]
  },
  {
   "cell_type": "code",
   "execution_count": 31,
   "metadata": {},
   "outputs": [
    {
     "data": {
      "text/html": [
       "<div>\n",
       "<style scoped>\n",
       "    .dataframe tbody tr th:only-of-type {\n",
       "        vertical-align: middle;\n",
       "    }\n",
       "\n",
       "    .dataframe tbody tr th {\n",
       "        vertical-align: top;\n",
       "    }\n",
       "\n",
       "    .dataframe thead th {\n",
       "        text-align: right;\n",
       "    }\n",
       "</style>\n",
       "<table border=\"1\" class=\"dataframe\">\n",
       "  <thead>\n",
       "    <tr style=\"text-align: right;\">\n",
       "      <th></th>\n",
       "      <th>artist_name</th>\n",
       "      <th>track_name</th>\n",
       "    </tr>\n",
       "  </thead>\n",
       "  <tbody>\n",
       "    <tr>\n",
       "      <th>40</th>\n",
       "      <td>Knife Party</td>\n",
       "      <td>Give It Up</td>\n",
       "    </tr>\n",
       "    <tr>\n",
       "      <th>111</th>\n",
       "      <td>Seven Lions</td>\n",
       "      <td>Leaving Earth</td>\n",
       "    </tr>\n",
       "    <tr>\n",
       "      <th>33</th>\n",
       "      <td>Knife Party</td>\n",
       "      <td>Rage Valley</td>\n",
       "    </tr>\n",
       "    <tr>\n",
       "      <th>1</th>\n",
       "      <td>Andrew Rayel</td>\n",
       "      <td>We Bring The Love</td>\n",
       "    </tr>\n",
       "    <tr>\n",
       "      <th>115</th>\n",
       "      <td>Seven Lions</td>\n",
       "      <td>Strangers</td>\n",
       "    </tr>\n",
       "    <tr>\n",
       "      <th>63</th>\n",
       "      <td>Datsik</td>\n",
       "      <td>Freakuency</td>\n",
       "    </tr>\n",
       "    <tr>\n",
       "      <th>5</th>\n",
       "      <td>Wasted Penguinz</td>\n",
       "      <td>Euphoria</td>\n",
       "    </tr>\n",
       "    <tr>\n",
       "      <th>184</th>\n",
       "      <td>Victor Niglio</td>\n",
       "      <td>Blackout (feat. Hype Turner) - Original Mix</td>\n",
       "    </tr>\n",
       "    <tr>\n",
       "      <th>131</th>\n",
       "      <td>Various Artists</td>\n",
       "      <td>Finished Symphony - deadmau5 Remix</td>\n",
       "    </tr>\n",
       "    <tr>\n",
       "      <th>23</th>\n",
       "      <td>Armin van Buuren</td>\n",
       "      <td>Gotta Be Love</td>\n",
       "    </tr>\n",
       "  </tbody>\n",
       "</table>\n",
       "</div>"
      ],
      "text/plain": [
       "          artist_name                                   track_name\n",
       "40        Knife Party                                   Give It Up\n",
       "111       Seven Lions                                Leaving Earth\n",
       "33        Knife Party                                  Rage Valley\n",
       "1        Andrew Rayel                            We Bring The Love\n",
       "115       Seven Lions                                    Strangers\n",
       "63             Datsik                                   Freakuency\n",
       "5     Wasted Penguinz                                     Euphoria\n",
       "184     Victor Niglio  Blackout (feat. Hype Turner) - Original Mix\n",
       "131   Various Artists           Finished Symphony - deadmau5 Remix\n",
       "23   Armin van Buuren                                Gotta Be Love"
      ]
     },
     "execution_count": 31,
     "metadata": {},
     "output_type": "execute_result"
    }
   ],
   "source": [
    "my_playlist.sample(10)"
   ]
  },
  {
   "cell_type": "code",
   "execution_count": 32,
   "metadata": {},
   "outputs": [],
   "source": [
    "# Read in the library information\n",
    "\n",
    "with open('C:\\\\Users\\\\acer\\\\Documents\\\\Tutorials\\\\Spotify\\\\spotify2\\\\YourLibrary.json', encoding='utf8') as f:\n",
    "    library_data = json.load(f)"
   ]
  },
  {
   "cell_type": "code",
   "execution_count": 33,
   "metadata": {},
   "outputs": [],
   "source": [
    "library_df = pd.DataFrame()\n",
    "\n",
    "def extract_json_value_library(column_name, data_source=library_data):\n",
    "    \n",
    "    \"\"\"\n",
    "    Takes in a JSON series of values and converts them to a list\n",
    "    \"\"\"\n",
    "    \n",
    "    return [i[column_name] for i in data_source['tracks']]\n",
    "\n",
    "library_df['artist_name'] = extract_json_value_library('artist')\n",
    "library_df['album'] = extract_json_value_library('album')\n",
    "library_df['track_name'] = extract_json_value_library('track')"
   ]
  },
  {
   "cell_type": "code",
   "execution_count": 34,
   "metadata": {},
   "outputs": [
    {
     "data": {
      "text/html": [
       "<div>\n",
       "<style scoped>\n",
       "    .dataframe tbody tr th:only-of-type {\n",
       "        vertical-align: middle;\n",
       "    }\n",
       "\n",
       "    .dataframe tbody tr th {\n",
       "        vertical-align: top;\n",
       "    }\n",
       "\n",
       "    .dataframe thead th {\n",
       "        text-align: right;\n",
       "    }\n",
       "</style>\n",
       "<table border=\"1\" class=\"dataframe\">\n",
       "  <thead>\n",
       "    <tr style=\"text-align: right;\">\n",
       "      <th></th>\n",
       "      <th>artist_name</th>\n",
       "      <th>album</th>\n",
       "      <th>track_name</th>\n",
       "    </tr>\n",
       "  </thead>\n",
       "  <tbody>\n",
       "    <tr>\n",
       "      <th>379</th>\n",
       "      <td>Armin van Buuren</td>\n",
       "      <td>Live at Ultra Music Festival Miami 2018 (Highl...</td>\n",
       "      <td>Live at Ultra Music Festival Miami 2018 (Mix C...</td>\n",
       "    </tr>\n",
       "    <tr>\n",
       "      <th>1334</th>\n",
       "      <td>Yves V</td>\n",
       "      <td>Blow</td>\n",
       "      <td>Blow</td>\n",
       "    </tr>\n",
       "    <tr>\n",
       "      <th>672</th>\n",
       "      <td>Inteus</td>\n",
       "      <td>Chapter III</td>\n",
       "      <td>Man on a Mission</td>\n",
       "    </tr>\n",
       "    <tr>\n",
       "      <th>498</th>\n",
       "      <td>Ayla</td>\n",
       "      <td>Live at Ultra Music Festival Miami 2018 (Highl...</td>\n",
       "      <td>Ayla (Mix Cut) - Ben Nicky &amp; Luke Bond Remix</td>\n",
       "    </tr>\n",
       "    <tr>\n",
       "      <th>403</th>\n",
       "      <td>Sebastian Ingrosso</td>\n",
       "      <td>Calling (Lose My Mind)</td>\n",
       "      <td>Calling (Lose My Mind) - Extended Club Mix</td>\n",
       "    </tr>\n",
       "    <tr>\n",
       "      <th>167</th>\n",
       "      <td>Trap City</td>\n",
       "      <td>The Greatest Beats</td>\n",
       "      <td>Future Trap</td>\n",
       "    </tr>\n",
       "    <tr>\n",
       "      <th>176</th>\n",
       "      <td>Miss K8</td>\n",
       "      <td>Magnet</td>\n",
       "      <td>Scream - Radio Edit</td>\n",
       "    </tr>\n",
       "    <tr>\n",
       "      <th>797</th>\n",
       "      <td>John Dahlbäck</td>\n",
       "      <td>We Were Gods</td>\n",
       "      <td>We Were Gods - Radio Edit</td>\n",
       "    </tr>\n",
       "    <tr>\n",
       "      <th>1446</th>\n",
       "      <td>San Holo</td>\n",
       "      <td>I Still See Your Face</td>\n",
       "      <td>I Still See Your Face</td>\n",
       "    </tr>\n",
       "    <tr>\n",
       "      <th>509</th>\n",
       "      <td>Lit Lords</td>\n",
       "      <td>Swings</td>\n",
       "      <td>Swings</td>\n",
       "    </tr>\n",
       "  </tbody>\n",
       "</table>\n",
       "</div>"
      ],
      "text/plain": [
       "             artist_name                                              album  \\\n",
       "379     Armin van Buuren  Live at Ultra Music Festival Miami 2018 (Highl...   \n",
       "1334              Yves V                                               Blow   \n",
       "672               Inteus                                        Chapter III   \n",
       "498                 Ayla  Live at Ultra Music Festival Miami 2018 (Highl...   \n",
       "403   Sebastian Ingrosso                             Calling (Lose My Mind)   \n",
       "167            Trap City                                 The Greatest Beats   \n",
       "176              Miss K8                                             Magnet   \n",
       "797        John Dahlbäck                                       We Were Gods   \n",
       "1446            San Holo                              I Still See Your Face   \n",
       "509            Lit Lords                                             Swings   \n",
       "\n",
       "                                             track_name  \n",
       "379   Live at Ultra Music Festival Miami 2018 (Mix C...  \n",
       "1334                                               Blow  \n",
       "672                                    Man on a Mission  \n",
       "498        Ayla (Mix Cut) - Ben Nicky & Luke Bond Remix  \n",
       "403          Calling (Lose My Mind) - Extended Club Mix  \n",
       "167                                         Future Trap  \n",
       "176                                 Scream - Radio Edit  \n",
       "797                           We Were Gods - Radio Edit  \n",
       "1446                              I Still See Your Face  \n",
       "509                                              Swings  "
      ]
     },
     "execution_count": 34,
     "metadata": {},
     "output_type": "execute_result"
    }
   ],
   "source": [
    "library_df.sample(10)"
   ]
  },
  {
   "cell_type": "code",
   "execution_count": 35,
   "metadata": {},
   "outputs": [],
   "source": [
    "## Create a series of zipped artist and track names to be able to match values and see song overlap\n",
    "\n",
    "artist_name_track_name_all = list(zip(spotify_data.artist_name, spotify_data.track_name))\n",
    "artist_name_track_name_playlist = list(zip(my_playlist.artist_name, my_playlist.track_name))\n",
    "artist_name_track_name_library = list(zip(library_df.artist_name, library_df.track_name))"
   ]
  },
  {
   "cell_type": "code",
   "execution_count": 36,
   "metadata": {},
   "outputs": [],
   "source": [
    "# Determine if a given song/artist combination is in a playlist or library\n",
    "\n",
    "song_in_playlist = [1 if i in artist_name_track_name_playlist else 0 for i in artist_name_track_name_all]\n",
    "song_in_library = [1 if i in artist_name_track_name_library else 0 for i in artist_name_track_name_all]"
   ]
  },
  {
   "cell_type": "code",
   "execution_count": 37,
   "metadata": {},
   "outputs": [],
   "source": [
    "# Add lists created above to the spotify data frame\n",
    "\n",
    "spotify_data['song_in_playlist'] = song_in_playlist\n",
    "spotify_data['song_in_library'] = song_in_library"
   ]
  },
  {
   "cell_type": "code",
   "execution_count": 38,
   "metadata": {},
   "outputs": [
    {
     "name": "stdout",
     "output_type": "stream",
     "text": [
      "3% of the total songs played were also featured in a playlist\n",
      "87% of the total songs played were also featured in my library\n"
     ]
    }
   ],
   "source": [
    "print('{0:.0%} of the total songs played were also featured in a playlist'.format(spotify_data.song_in_playlist.sum()\\\n",
    "                                                                                 / (spotify_data.shape[0])))\n",
    "print('{0:.0%} of the total songs played were also featured in my library'.format(spotify_data.song_in_library.sum()\\\n",
    "                                                                                 / (spotify_data.shape[0])))"
   ]
  },
  {
   "cell_type": "code",
   "execution_count": 39,
   "metadata": {},
   "outputs": [],
   "source": [
    "# Determine the number of times a song was played if it's in a playlist or library compared to not being in one\n",
    "\n",
    "num_times_played_playlist = []\n",
    "num_times_played_nonplaylist = []\n",
    "\n",
    "num_times_played_library = []\n",
    "num_times_played_nonlibrary = []\n",
    "\n",
    "for artist_song in set(artist_name_track_name_all):\n",
    "    \n",
    "    song_df = spotify_data[(spotify_data.artist_name == artist_song[0]) & (spotify_data.track_name == artist_song[1])]\n",
    "        \n",
    "    if (song_df.song_in_playlist.sum() > 0):\n",
    "        \n",
    "        num_times_played_playlist.append(len(song_df))\n",
    "        \n",
    "    else:\n",
    "        \n",
    "        num_times_played_nonplaylist.append(len(song_df))\n",
    "        \n",
    "    if (song_df.song_in_library.sum() > 0):\n",
    "        \n",
    "        num_times_played_library.append(len(song_df))\n",
    "        \n",
    "    else:\n",
    "        \n",
    "        num_times_played_nonlibrary.append(len(song_df))"
   ]
  },
  {
   "cell_type": "code",
   "execution_count": 40,
   "metadata": {},
   "outputs": [
    {
     "data": {
      "text/html": [
       "<iframe id=\"igraph\" scrolling=\"no\" style=\"border:none;\" seamless=\"seamless\" src=\"https://plot.ly/~bart23/4.embed\" height=\"525px\" width=\"100%\"></iframe>"
      ],
      "text/plain": [
       "<plotly.tools.PlotlyDisplay object>"
      ]
     },
     "execution_count": 40,
     "metadata": {},
     "output_type": "execute_result"
    }
   ],
   "source": [
    "x_data = ['Non Library', 'Library', 'Non Playlist', 'Playlist']\n",
    "\n",
    "y_data = [num_times_played_nonlibrary, num_times_played_library, num_times_played_nonplaylist, num_times_played_playlist]\n",
    "\n",
    "colors = ['rgba(93, 164, 214, 0.5)', 'rgba(255, 144, 14, 0.5)', 'rgba(44, 160, 101, 0.5)', 'rgba(255, 65, 54, 0.5)', 'rgba(207, 114, 255, 0.5)', 'rgba(127, 96, 0, 0.5)']\n",
    "\n",
    "traces = []\n",
    "\n",
    "for xd, yd, cls in zip(x_data, y_data, colors):\n",
    "        traces.append(go.Box(\n",
    "            y=yd,\n",
    "            name=xd,\n",
    "            boxpoints='all',\n",
    "            jitter=0.5,\n",
    "            whiskerwidth=0.2,\n",
    "            fillcolor=cls,\n",
    "            marker=dict(\n",
    "                size=2,\n",
    "            ),\n",
    "            line=dict(width=1),\n",
    "        ))\n",
    "\n",
    "layout = go.Layout(\n",
    "    title='Frequency of Song Playing by Category',\n",
    "    yaxis=dict(\n",
    "        autorange=True,\n",
    "        showgrid=True,\n",
    "        zeroline=True,\n",
    "        dtick=5,\n",
    "        gridcolor='rgb(255, 255, 255)',\n",
    "        gridwidth=1,\n",
    "        zerolinecolor='rgb(255, 255, 255)',\n",
    "        zerolinewidth=2,\n",
    "        title='Number of Plays'\n",
    "    ),\n",
    "    margin=dict(\n",
    "        l=40,\n",
    "        r=30,\n",
    "        b=80,\n",
    "        t=100,\n",
    "    ),\n",
    "    paper_bgcolor='rgb(243, 243, 243)',\n",
    "    plot_bgcolor='rgb(243, 243, 243)',\n",
    "    showlegend=False\n",
    ")\n",
    "\n",
    "fig = go.Figure(data=traces, layout=layout)\n",
    "py.iplot(fig)"
   ]
  },
  {
   "cell_type": "markdown",
   "metadata": {},
   "source": [
    "# Number of minutes listened per day"
   ]
  },
  {
   "cell_type": "code",
   "execution_count": 41,
   "metadata": {},
   "outputs": [],
   "source": [
    "# Determine the number of minutes per day that I listened to songs\n",
    "\n",
    "number_of_minutes_per_day = spotify_data.set_index('local_time')\n",
    "number_of_minutes_per_day = pd.DataFrame(number_of_minutes_per_day.groupby(\\\n",
    "                            by=number_of_minutes_per_day.index.date)['minutes_played'].sum())"
   ]
  },
  {
   "cell_type": "code",
   "execution_count": 42,
   "metadata": {},
   "outputs": [
    {
     "data": {
      "text/html": [
       "<div>\n",
       "<style scoped>\n",
       "    .dataframe tbody tr th:only-of-type {\n",
       "        vertical-align: middle;\n",
       "    }\n",
       "\n",
       "    .dataframe tbody tr th {\n",
       "        vertical-align: top;\n",
       "    }\n",
       "\n",
       "    .dataframe thead th {\n",
       "        text-align: right;\n",
       "    }\n",
       "</style>\n",
       "<table border=\"1\" class=\"dataframe\">\n",
       "  <thead>\n",
       "    <tr style=\"text-align: right;\">\n",
       "      <th></th>\n",
       "      <th>minutes_played</th>\n",
       "    </tr>\n",
       "  </thead>\n",
       "  <tbody>\n",
       "    <tr>\n",
       "      <th>2018-11-26</th>\n",
       "      <td>293.353450</td>\n",
       "    </tr>\n",
       "    <tr>\n",
       "      <th>2018-11-27</th>\n",
       "      <td>352.738717</td>\n",
       "    </tr>\n",
       "    <tr>\n",
       "      <th>2018-11-28</th>\n",
       "      <td>456.773817</td>\n",
       "    </tr>\n",
       "    <tr>\n",
       "      <th>2018-11-29</th>\n",
       "      <td>501.023233</td>\n",
       "    </tr>\n",
       "    <tr>\n",
       "      <th>2018-11-30</th>\n",
       "      <td>287.705083</td>\n",
       "    </tr>\n",
       "  </tbody>\n",
       "</table>\n",
       "</div>"
      ],
      "text/plain": [
       "            minutes_played\n",
       "2018-11-26      293.353450\n",
       "2018-11-27      352.738717\n",
       "2018-11-28      456.773817\n",
       "2018-11-29      501.023233\n",
       "2018-11-30      287.705083"
      ]
     },
     "execution_count": 42,
     "metadata": {},
     "output_type": "execute_result"
    }
   ],
   "source": [
    "number_of_minutes_per_day.head()"
   ]
  },
  {
   "cell_type": "code",
   "execution_count": 43,
   "metadata": {},
   "outputs": [],
   "source": [
    "from plotly.grid_objs import Grid, Column\n",
    "import plotly.figure_factory as ff\n",
    "\n",
    "import time\n",
    "from datetime import datetime"
   ]
  },
  {
   "cell_type": "code",
   "execution_count": 44,
   "metadata": {},
   "outputs": [
    {
     "data": {
      "text/html": [
       "<iframe id=\"igraph\" scrolling=\"no\" style=\"border:none;\" seamless=\"seamless\" src=\"https://plot.ly/~bart23/6.embed\" height=\"350px\" width=\"100%\"></iframe>"
      ],
      "text/plain": [
       "<plotly.tools.PlotlyDisplay object>"
      ]
     },
     "execution_count": 44,
     "metadata": {},
     "output_type": "execute_result"
    }
   ],
   "source": [
    "# Create a plot.ly-friendly table for minutes per day\n",
    "\n",
    "table = ff.create_table(number_of_minutes_per_day)\n",
    "py.iplot(table, filename='minutes_per_day_spotify')"
   ]
  },
  {
   "cell_type": "code",
   "execution_count": 45,
   "metadata": {},
   "outputs": [
    {
     "data": {
      "text/plain": [
       "'https://plot.ly/~bart23/8/'"
      ]
     },
     "execution_count": 45,
     "metadata": {},
     "output_type": "execute_result"
    }
   ],
   "source": [
    "# Formatting for the plot.ly chart based on code adapted from an example in their gallery\n",
    "\n",
    "minutes_played = list(number_of_minutes_per_day['minutes_played'])\n",
    "\n",
    "my_columns = []\n",
    "\n",
    "for k in range(len(number_of_minutes_per_day.index) - 1):\n",
    "    my_columns.append(Column(number_of_minutes_per_day.index[:k + 1], 'x{}'.format(k + 1)))   \n",
    "    my_columns.append(Column(minutes_played[:k + 1], 'y{}'.format(k + 1)))\n",
    "grid = Grid(my_columns)\n",
    "py.grid_ops.upload(grid, 'minutes_played' + str(time.time()), auto_open=False)"
   ]
  },
  {
   "cell_type": "code",
   "execution_count": 46,
   "metadata": {},
   "outputs": [
    {
     "data": {
      "text/html": [
       "<iframe id=\"igraph\" scrolling=\"no\" style=\"border:none;\" seamless=\"seamless\" src=\"https://plot.ly/~bart23/9.embed\" height=\"400px\" width=\"800px\"></iframe>"
      ],
      "text/plain": [
       "<plotly.tools.PlotlyDisplay object>"
      ]
     },
     "execution_count": 46,
     "metadata": {},
     "output_type": "execute_result"
    }
   ],
   "source": [
    "data=[dict(type='scatter',\n",
    "           xsrc=grid.get_column_reference('x1'),\n",
    "           ysrc= grid.get_column_reference('y1'),\n",
    "           name='Spotify',\n",
    "           mode='lines',\n",
    "           line=dict(color= 'rgb(0, 153, 255)'),\n",
    "           fill='tozeroy',\n",
    "           fillcolor='rgba(153, 204, 255, 0.5)')]\n",
    "\n",
    "axis=dict(ticklen=4,\n",
    "          mirror=True,\n",
    "          zeroline=False,\n",
    "          showline=True,\n",
    "          autorange=False,\n",
    "          showgrid=False)\n",
    "\n",
    "layout = dict(title='Minutes Played per Day Spotify',\n",
    "              font=dict(family='Balto'),\n",
    "              showlegend=False,\n",
    "              autosize=False,\n",
    "              width=800,\n",
    "              height=400,\n",
    "              xaxis=dict(axis, **{'nticks':12, 'tickangle':-45,\n",
    "                                  'range': [min(number_of_minutes_per_day.index),\n",
    "                                            max(number_of_minutes_per_day.index)]}),\n",
    "              yaxis=dict(axis, **{'title': 'Minutes', 'range':[0,max(number_of_minutes_per_day.minutes_played)+5]}),\n",
    "              updatemenus=[dict(type='buttons',\n",
    "                                showactive=False,\n",
    "                                y=1,\n",
    "                                x=1.1,\n",
    "                                xanchor='right',\n",
    "                                yanchor='top',\n",
    "                                pad=dict(t=0, r=10),\n",
    "                                buttons=[dict(label='Play',\n",
    "                                              method='animate',\n",
    "                                              args=[None, dict(frame=dict(duration=50, redraw=False), \n",
    "                                                               transition=dict(duration=0),\n",
    "                                                               fromcurrent=True,\n",
    "                                                               mode='immediate')])])])\n",
    "\n",
    "frames=[{'data':[{'xsrc': grid.get_column_reference('x{}'.format(k + 1)),\n",
    "                  'ysrc': grid.get_column_reference('y{}'.format(k + 1))}],\n",
    "         'traces': [0]\n",
    "        } for k in range(len(number_of_minutes_per_day.index) - 1)]\n",
    "\n",
    "fig=dict(data=data, layout=layout, frames=frames)\n",
    "py.icreate_animations(fig, 'Minutes_Per_Day_Spotify' + str(time.time()))"
   ]
  },
  {
   "cell_type": "markdown",
   "metadata": {},
   "source": [
    "# Listening by Day of Week"
   ]
  },
  {
   "cell_type": "code",
   "execution_count": 47,
   "metadata": {},
   "outputs": [],
   "source": [
    "# Set the index as the column for easier slicing\n",
    "\n",
    "date_index = spotify_data.set_index('local_time')\n",
    "date_index.index = date_index.index.date"
   ]
  },
  {
   "cell_type": "code",
   "execution_count": 48,
   "metadata": {},
   "outputs": [],
   "source": [
    "# Merge the date index with day of week; remove duplicated values\n",
    "\n",
    "merged_minutes_per_day = number_of_minutes_per_day.merge(date_index[['local_day_of_week']], left_index=True, right_index=True,\n",
    "                                                        how='left', validate='1:m')\n",
    "\n",
    "merged_minutes_per_day = merged_minutes_per_day[~merged_minutes_per_day.index.duplicated(keep='first')]"
   ]
  },
  {
   "cell_type": "code",
   "execution_count": 49,
   "metadata": {},
   "outputs": [
    {
     "data": {
      "text/html": [
       "<div>\n",
       "<style scoped>\n",
       "    .dataframe tbody tr th:only-of-type {\n",
       "        vertical-align: middle;\n",
       "    }\n",
       "\n",
       "    .dataframe tbody tr th {\n",
       "        vertical-align: top;\n",
       "    }\n",
       "\n",
       "    .dataframe thead th {\n",
       "        text-align: right;\n",
       "    }\n",
       "</style>\n",
       "<table border=\"1\" class=\"dataframe\">\n",
       "  <thead>\n",
       "    <tr style=\"text-align: right;\">\n",
       "      <th></th>\n",
       "      <th>minutes_played</th>\n",
       "      <th>local_day_of_week</th>\n",
       "    </tr>\n",
       "  </thead>\n",
       "  <tbody>\n",
       "    <tr>\n",
       "      <th>2018-11-26</th>\n",
       "      <td>293.353450</td>\n",
       "      <td>Monday</td>\n",
       "    </tr>\n",
       "    <tr>\n",
       "      <th>2018-11-27</th>\n",
       "      <td>352.738717</td>\n",
       "      <td>Tuesday</td>\n",
       "    </tr>\n",
       "    <tr>\n",
       "      <th>2018-11-28</th>\n",
       "      <td>456.773817</td>\n",
       "      <td>Wednesday</td>\n",
       "    </tr>\n",
       "    <tr>\n",
       "      <th>2018-11-29</th>\n",
       "      <td>501.023233</td>\n",
       "      <td>Thursday</td>\n",
       "    </tr>\n",
       "    <tr>\n",
       "      <th>2018-11-30</th>\n",
       "      <td>287.705083</td>\n",
       "      <td>Friday</td>\n",
       "    </tr>\n",
       "  </tbody>\n",
       "</table>\n",
       "</div>"
      ],
      "text/plain": [
       "            minutes_played local_day_of_week\n",
       "2018-11-26      293.353450            Monday\n",
       "2018-11-27      352.738717           Tuesday\n",
       "2018-11-28      456.773817         Wednesday\n",
       "2018-11-29      501.023233          Thursday\n",
       "2018-11-30      287.705083            Friday"
      ]
     },
     "execution_count": 49,
     "metadata": {},
     "output_type": "execute_result"
    }
   ],
   "source": [
    "merged_minutes_per_day.head()"
   ]
  },
  {
   "cell_type": "code",
   "execution_count": 50,
   "metadata": {},
   "outputs": [],
   "source": [
    "# Find the number of minutes played per day of week\n",
    "\n",
    "days = ['Monday','Tuesday','Wednesday','Thursday','Friday','Saturday','Sunday']\n",
    "\n",
    "time_per_day = []\n",
    "\n",
    "for day in days:\n",
    "    \n",
    "    df_days = merged_minutes_per_day[merged_minutes_per_day.local_day_of_week == day]\n",
    "    \n",
    "    time_per_day.append(list(df_days['minutes_played']))"
   ]
  },
  {
   "cell_type": "code",
   "execution_count": 51,
   "metadata": {},
   "outputs": [
    {
     "data": {
      "text/html": [
       "<iframe id=\"igraph\" scrolling=\"no\" style=\"border:none;\" seamless=\"seamless\" src=\"https://plot.ly/~bart23/10.embed\" height=\"525px\" width=\"100%\"></iframe>"
      ],
      "text/plain": [
       "<plotly.tools.PlotlyDisplay object>"
      ]
     },
     "execution_count": 51,
     "metadata": {},
     "output_type": "execute_result"
    }
   ],
   "source": [
    "traces = []\n",
    "\n",
    "for i, j in enumerate(days):\n",
    "    \n",
    "    trace = go.Box(\n",
    "    y=time_per_day[i],\n",
    "    name = j,\n",
    "    boxmean=True\n",
    "    )\n",
    "    traces.append(trace)\n",
    "\n",
    "data = traces\n",
    "py.iplot(data)"
   ]
  },
  {
   "cell_type": "markdown",
   "metadata": {},
   "source": [
    "# Scatter Plot of Artist Plays"
   ]
  },
  {
   "cell_type": "code",
   "execution_count": 52,
   "metadata": {},
   "outputs": [],
   "source": [
    "def time_of_day_scatter_df(df = spotify_data, time_of_day=None):\n",
    "    \n",
    "    \"\"\"\n",
    "    Takes in a data frame, filters it for the time of day if the variable is not None, and finds the \n",
    "    frequency of plays, minutes played, and unique songs by artists. The function returns a data frame\n",
    "    with this information.\n",
    "    \"\"\"\n",
    "    \n",
    "    if time_of_day:\n",
    "        df = df[df['local_time_of_day'] == time_of_day]\n",
    "        \n",
    "    grouped_artists = df.groupby(by='artist_name')\n",
    "    \n",
    "    number_of_plays = grouped_artists['track_name'].count()\n",
    "    minutes_played = grouped_artists['minutes_played'].sum()\n",
    "    unique_songs_played = [len(i) for i in grouped_artists['track_name'].unique()]\n",
    "    \n",
    "    scatter_df = pd.DataFrame({'number_of_plays':number_of_plays, \n",
    "                           'minutes_played':minutes_played,\n",
    "                           'unique_songs_played':unique_songs_played},\n",
    "                         index = number_of_plays.index)\n",
    "    \n",
    "    return scatter_df"
   ]
  },
  {
   "cell_type": "code",
   "execution_count": 53,
   "metadata": {},
   "outputs": [],
   "source": [
    "scatter_df = time_of_day_scatter_df()"
   ]
  },
  {
   "cell_type": "code",
   "execution_count": 54,
   "metadata": {},
   "outputs": [
    {
     "data": {
      "text/html": [
       "<div>\n",
       "<style scoped>\n",
       "    .dataframe tbody tr th:only-of-type {\n",
       "        vertical-align: middle;\n",
       "    }\n",
       "\n",
       "    .dataframe tbody tr th {\n",
       "        vertical-align: top;\n",
       "    }\n",
       "\n",
       "    .dataframe thead th {\n",
       "        text-align: right;\n",
       "    }\n",
       "</style>\n",
       "<table border=\"1\" class=\"dataframe\">\n",
       "  <thead>\n",
       "    <tr style=\"text-align: right;\">\n",
       "      <th></th>\n",
       "      <th>number_of_plays</th>\n",
       "      <th>minutes_played</th>\n",
       "      <th>unique_songs_played</th>\n",
       "    </tr>\n",
       "    <tr>\n",
       "      <th>artist_name</th>\n",
       "      <th></th>\n",
       "      <th></th>\n",
       "      <th></th>\n",
       "    </tr>\n",
       "  </thead>\n",
       "  <tbody>\n",
       "    <tr>\n",
       "      <th>$uicideBoy$</th>\n",
       "      <td>260</td>\n",
       "      <td>285.568917</td>\n",
       "      <td>129</td>\n",
       "    </tr>\n",
       "    <tr>\n",
       "      <th>12th Planet</th>\n",
       "      <td>3</td>\n",
       "      <td>10.880000</td>\n",
       "      <td>2</td>\n",
       "    </tr>\n",
       "    <tr>\n",
       "      <th>3LAU</th>\n",
       "      <td>2</td>\n",
       "      <td>0.026367</td>\n",
       "      <td>1</td>\n",
       "    </tr>\n",
       "    <tr>\n",
       "      <th>5 Seconds of Summer</th>\n",
       "      <td>9</td>\n",
       "      <td>0.018433</td>\n",
       "      <td>9</td>\n",
       "    </tr>\n",
       "    <tr>\n",
       "      <th>6 Dogs</th>\n",
       "      <td>2</td>\n",
       "      <td>0.035417</td>\n",
       "      <td>2</td>\n",
       "    </tr>\n",
       "  </tbody>\n",
       "</table>\n",
       "</div>"
      ],
      "text/plain": [
       "                     number_of_plays  minutes_played  unique_songs_played\n",
       "artist_name                                                              \n",
       "$uicideBoy$                      260      285.568917                  129\n",
       "12th Planet                        3       10.880000                    2\n",
       "3LAU                               2        0.026367                    1\n",
       "5 Seconds of Summer                9        0.018433                    9\n",
       "6 Dogs                             2        0.035417                    2"
      ]
     },
     "execution_count": 54,
     "metadata": {},
     "output_type": "execute_result"
    }
   ],
   "source": [
    "scatter_df.head()"
   ]
  },
  {
   "cell_type": "code",
   "execution_count": 55,
   "metadata": {},
   "outputs": [
    {
     "data": {
      "text/html": [
       "<iframe id=\"igraph\" scrolling=\"no\" style=\"border:none;\" seamless=\"seamless\" src=\"https://plot.ly/~bart23/12.embed\" height=\"525px\" width=\"100%\"></iframe>"
      ],
      "text/plain": [
       "<plotly.tools.PlotlyDisplay object>"
      ]
     },
     "execution_count": 55,
     "metadata": {},
     "output_type": "execute_result"
    }
   ],
   "source": [
    "trace = go.Scatter(\n",
    "    \n",
    "    x = scatter_df.number_of_plays,\n",
    "    \n",
    "    y = [round(i, 1) for i in scatter_df.minutes_played],\n",
    "    \n",
    "    text = ['Artist: ' + str(i) + '<br>Minutes Played: ' + str(round(scatter_df.loc[i,'minutes_played'], 1)) +\n",
    "            '<br>Unique Songs: ' + str(scatter_df.loc[i, 'unique_songs_played']) for i in scatter_df.index],\n",
    "   \n",
    "    marker = dict(size = [round(i, 1) for i in scatter_df.unique_songs_played], cmin=0, cmax = len(scatter_df),\n",
    "                  colorscale='Viridis', color=[i for i in range(len(scatter_df))]),\n",
    "    \n",
    "    mode = 'markers'\n",
    ")\n",
    "\n",
    "data = [trace]\n",
    "\n",
    "layout = go.Layout(\n",
    "    title='Amount of Time Listened and Songs by Artist',\n",
    "    xaxis=dict(\n",
    "        title='Number of Songs Played',\n",
    "        gridcolor='rgb(255, 255, 255)',\n",
    "        zerolinewidth=1,\n",
    "        ticklen=5,\n",
    "        gridwidth=2,\n",
    "    ),\n",
    "    yaxis=dict(\n",
    "        title='Minutes Played',\n",
    "        gridcolor='rgb(255, 255, 255)',\n",
    "        zerolinewidth=1,\n",
    "        ticklen=5,\n",
    "        gridwidth=2,\n",
    "    ),\n",
    "    paper_bgcolor='rgb(243, 243, 243)',\n",
    "    plot_bgcolor='rgb(243, 243, 243)',\n",
    "    \n",
    "    annotations=[\n",
    "        dict(\n",
    "            \n",
    "            text='Size = Number of Unique Songs Played',\n",
    "            x=130,\n",
    "            y=20,\n",
    "            font={'color':'black'},\n",
    "            bordercolor='#c7c7c7',\n",
    "            borderwidth=2,\n",
    "            borderpad=4,\n",
    "            bgcolor='#fffaf0',\n",
    "            opacity=0.8,\n",
    "            showarrow=False\n",
    "\n",
    "        )\n",
    "    ]\n",
    ")\n",
    "\n",
    "\n",
    "fig = go.Figure(data=data, layout=layout)\n",
    "\n",
    "py.iplot(fig, filename='artist-scatter')"
   ]
  },
  {
   "cell_type": "code",
   "execution_count": 56,
   "metadata": {},
   "outputs": [
    {
     "data": {
      "text/html": [
       "<iframe id=\"igraph\" scrolling=\"no\" style=\"border:none;\" seamless=\"seamless\" src=\"https://plot.ly/~bart23/14.embed\" height=\"525px\" width=\"100%\"></iframe>"
      ],
      "text/plain": [
       "<plotly.tools.PlotlyDisplay object>"
      ]
     },
     "execution_count": 56,
     "metadata": {},
     "output_type": "execute_result"
    }
   ],
   "source": [
    "button_layer_1_height = 1.12\n",
    "button_layer_2_height = 1.065\n",
    "\n",
    "scatter_morning = time_of_day_scatter_df(time_of_day='morning')\n",
    "scatter_afternoon = time_of_day_scatter_df(time_of_day='afternoon')\n",
    "scatter_evening = time_of_day_scatter_df(time_of_day='night')\n",
    "\n",
    "trace_all = go.Scatter(\n",
    "    \n",
    "    x = scatter_df.number_of_plays,\n",
    "    \n",
    "    y = [round(i, 1) for i in scatter_df.minutes_played],\n",
    "    \n",
    "    text = ['Artist: ' + str(i) + '<br>Minutes Played: ' + str(round(scatter_df.loc[i,'minutes_played'], 1)) +\n",
    "            '<br>Unique Songs: ' + str(scatter_df.loc[i, 'unique_songs_played']) for i in scatter_df.index],\n",
    "   \n",
    "    marker = dict(size = [round(i, 1) for i in scatter_df.unique_songs_played], cmin=0, cmax = len(scatter_df),\n",
    "                  colorscale='Viridis', color=[i for i in range(len(scatter_df))]),\n",
    "    \n",
    "    mode = 'markers',\n",
    "    visible=True,\n",
    "    name='All'\n",
    ")\n",
    "\n",
    "trace_morning = go.Scatter(\n",
    "    \n",
    "    x = scatter_morning.number_of_plays,\n",
    "    \n",
    "    y = [round(i, 1) for i in scatter_morning.minutes_played],\n",
    "    \n",
    "    text = ['Artist: ' + str(i) + '<br>Minutes Played: ' + str(round(scatter_morning.loc[i,'minutes_played'], 1)) +\n",
    "            '<br>Unique Songs: ' + str(scatter_morning.loc[i, 'unique_songs_played']) for i in scatter_morning.index],\n",
    "   \n",
    "    marker = dict(size = [round(i, 1) for i in scatter_morning.unique_songs_played], cmin=0, cmax = len(scatter_morning),\n",
    "                  colorscale='Viridis', color=[i for i in range(len(scatter_morning))]),\n",
    "    \n",
    "    mode = 'markers',\n",
    "    visible=False,\n",
    "    name='Morning'\n",
    ")\n",
    "\n",
    "trace_afternoon = go.Scatter(\n",
    "    \n",
    "    x = scatter_afternoon.number_of_plays,\n",
    "    \n",
    "    y = [round(i, 1) for i in scatter_afternoon.minutes_played],\n",
    "    \n",
    "    text = ['Artist: ' + str(i) + '<br>Minutes Played: ' + str(round(scatter_afternoon.loc[i,'minutes_played'], 1)) +\n",
    "            '<br>Unique Songs: ' + str(scatter_afternoon.loc[i, 'unique_songs_played']) for i in scatter_afternoon.index],\n",
    "   \n",
    "    marker = dict(size = [round(i, 1) for i in scatter_afternoon.unique_songs_played], cmin=0, cmax = len(scatter_afternoon),\n",
    "                  colorscale='Viridis', color=[i for i in range(len(scatter_afternoon))]),\n",
    "    \n",
    "    mode = 'markers',\n",
    "    visible=False,\n",
    "    name='Afternoon'\n",
    "    \n",
    ")\n",
    "\n",
    "trace_evening = go.Scatter(\n",
    "    \n",
    "    x = scatter_evening.number_of_plays,\n",
    "    \n",
    "    y = [round(i, 1) for i in scatter_evening.minutes_played],\n",
    "    \n",
    "    text = ['Artist: ' + str(i) + '<br>Minutes Played: ' + str(round(scatter_evening.loc[i,'minutes_played'], 1)) +\n",
    "            '<br>Unique Songs: ' + str(scatter_evening.loc[i, 'unique_songs_played']) for i in scatter_evening.index],\n",
    "   \n",
    "    marker = dict(size = [round(i, 1) for i in scatter_evening.unique_songs_played], cmin=0, cmax = len(scatter_evening),\n",
    "                  colorscale='Viridis', color=[i for i in range(len(scatter_evening))]),\n",
    "    \n",
    "    mode = 'markers',\n",
    "    visible=False,\n",
    "    name='Evening'\n",
    "    \n",
    ")\n",
    "\n",
    "data = [trace_all, trace_morning, trace_afternoon, trace_evening]\n",
    "\n",
    "updatemenus = list([\n",
    "    dict(\n",
    "         buttons=list([   \n",
    "            dict(label = 'All',\n",
    "                 method = 'update',\n",
    "                 args = [{'visible': [True, False, False, False]},\n",
    "                         {'title': 'All Day'}]),\n",
    "            dict(label = 'Morning',\n",
    "                 method = 'update',\n",
    "                 args = [{'visible': [False, True, False, False]},\n",
    "                         {'title': 'Morning'}]),\n",
    "            dict(label = 'Afternoon',\n",
    "                 method = 'update',\n",
    "                 args = [{'visible': [False, False, True, False]},\n",
    "                         {'title': 'Afternoon'}]),\n",
    "            dict(label = 'Evening',\n",
    "                 method = 'update',\n",
    "                 args = [{'visible': [False, False, False, True]},\n",
    "                         {'title': 'Evening'}])\n",
    "        ]),\n",
    "        type='buttons',\n",
    "        direction = 'right',\n",
    "        pad = {'r': 10, 't': 10},\n",
    "        showactive = True,\n",
    "        x = 0.3,\n",
    "        xanchor = 'left',\n",
    "        y = button_layer_1_height,\n",
    "        yanchor = 'top' )\n",
    "])\n",
    "                \n",
    "layout = dict(title='Artist Variance by Time of Day', showlegend=False,\n",
    "              updatemenus=updatemenus)\n",
    "\n",
    "fig = dict(data=data, layout=layout)\n",
    "\n",
    "py.iplot(fig, filename='artist_by_time_of_day')"
   ]
  }
 ],
 "metadata": {
  "kernelspec": {
   "display_name": "Python 3",
   "language": "python",
   "name": "python3"
  },
  "language_info": {
   "codemirror_mode": {
    "name": "ipython",
    "version": 3
   },
   "file_extension": ".py",
   "mimetype": "text/x-python",
   "name": "python",
   "nbconvert_exporter": "python",
   "pygments_lexer": "ipython3",
   "version": "3.7.1"
  }
 },
 "nbformat": 4,
 "nbformat_minor": 2
}
